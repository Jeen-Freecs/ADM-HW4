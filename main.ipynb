{
 "cells": [
  {
   "cell_type": "code",
   "execution_count": 1,
   "metadata": {},
   "outputs": [],
   "source": [
    "import numpy as np\n",
    "import pandas as pd"
   ]
  },
  {
   "cell_type": "markdown",
   "metadata": {},
   "source": [
    "## 1. Recommendation system\n",
    "\n",
    "Implementing a recommendation system is critical for businesses and digital platforms that want to thrive in today's competitive environment. These systems use data-driven personalization to tailor content, products, and services to individual user preferences. The latter improves user engagement, satisfaction, retention, and revenue through increased sales and cross-selling opportunities. In this section, you will attempt to implement a recommendation system by identifying similar users' preferences and recommending movies they watch to the study user. \n",
    "\n",
    "To be more specific, you will implement your version of the [**LSH algorithm**](https://www.learndatasci.com/tutorials/building-recommendation-engine-locality-sensitive-hashing-lsh-python/), which will take as input the user's preferred genre of movies, find the most similar users to this user, and recommend the most watched movies by those who are more similar to the user. \n",
    "\n",
    "__Data__: The data you will be working with can be found [here](https://www.kaggle.com/datasets/vodclickstream/netflix-audience-behaviour-uk-movies).\n",
    "\n",
    "Looking at the data, you can see that there is data available for each user for the movies the user <ins>clicked on</ins>. Gather the __title and genre__ of the __maximum top 10 movies__ that each user clicked on regarding the __number of clicks__."
   ]
  },
  {
   "cell_type": "markdown",
   "metadata": {},
   "source": [
    "### 1.1. Max top 10 movies"
   ]
  },
  {
   "cell_type": "code",
   "execution_count": null,
   "metadata": {},
   "outputs": [],
   "source": [
    "import numpy as np\n",
    "import pandas as pd\n",
    "import nltk\n",
    "from nltk.stem import *\n",
    "from nltk.corpus import stopwords\n",
    "from collections import Counter\n"
   ]
  },
  {
   "cell_type": "code",
   "execution_count": null,
   "metadata": {},
   "outputs": [
    {
     "name": "stderr",
     "output_type": "stream",
     "text": [
      "[nltk_data] Downloading package punkt to\n",
      "[nltk_data]     C:\\Users\\egabd\\AppData\\Roaming\\nltk_data...\n",
      "[nltk_data]   Package punkt is already up-to-date!\n"
     ]
    },
    {
     "data": {
      "text/plain": [
       "True"
      ]
     },
     "metadata": {},
     "output_type": "display_data"
    }
   ],
   "source": [
    "nltk.download('punkt')"
   ]
  },
  {
   "cell_type": "code",
   "execution_count": null,
   "metadata": {},
   "outputs": [],
   "source": [
    "# Load the dataset\n",
    "data = pd.read_csv('vodclickstream_uk_movies_03.csv')\n"
   ]
  },
  {
   "cell_type": "code",
   "execution_count": null,
   "metadata": {},
   "outputs": [
    {
     "data": {
      "text/html": [
       "<div>\n",
       "<style scoped>\n",
       "    .dataframe tbody tr th:only-of-type {\n",
       "        vertical-align: middle;\n",
       "    }\n",
       "\n",
       "    .dataframe tbody tr th {\n",
       "        vertical-align: top;\n",
       "    }\n",
       "\n",
       "    .dataframe thead th {\n",
       "        text-align: right;\n",
       "    }\n",
       "</style>\n",
       "<table border=\"1\" class=\"dataframe\">\n",
       "  <thead>\n",
       "    <tr style=\"text-align: right;\">\n",
       "      <th></th>\n",
       "      <th>Unnamed: 0</th>\n",
       "      <th>datetime</th>\n",
       "      <th>duration</th>\n",
       "      <th>title</th>\n",
       "      <th>genres</th>\n",
       "      <th>release_date</th>\n",
       "      <th>movie_id</th>\n",
       "      <th>user_id</th>\n",
       "    </tr>\n",
       "  </thead>\n",
       "  <tbody>\n",
       "    <tr>\n",
       "      <th>0</th>\n",
       "      <td>58773</td>\n",
       "      <td>2017-01-01 01:15:09</td>\n",
       "      <td>0.0</td>\n",
       "      <td>Angus, Thongs and Perfect Snogging</td>\n",
       "      <td>Comedy, Drama, Romance</td>\n",
       "      <td>2008-07-25</td>\n",
       "      <td>26bd5987e8</td>\n",
       "      <td>1dea19f6fe</td>\n",
       "    </tr>\n",
       "    <tr>\n",
       "      <th>1</th>\n",
       "      <td>58774</td>\n",
       "      <td>2017-01-01 13:56:02</td>\n",
       "      <td>0.0</td>\n",
       "      <td>The Curse of Sleeping Beauty</td>\n",
       "      <td>Fantasy, Horror, Mystery, Thriller</td>\n",
       "      <td>2016-06-02</td>\n",
       "      <td>f26ed2675e</td>\n",
       "      <td>544dcbc510</td>\n",
       "    </tr>\n",
       "    <tr>\n",
       "      <th>2</th>\n",
       "      <td>58775</td>\n",
       "      <td>2017-01-01 15:17:47</td>\n",
       "      <td>10530.0</td>\n",
       "      <td>London Has Fallen</td>\n",
       "      <td>Action, Thriller</td>\n",
       "      <td>2016-03-04</td>\n",
       "      <td>f77e500e7a</td>\n",
       "      <td>7cbcc791bf</td>\n",
       "    </tr>\n",
       "    <tr>\n",
       "      <th>3</th>\n",
       "      <td>58776</td>\n",
       "      <td>2017-01-01 16:04:13</td>\n",
       "      <td>49.0</td>\n",
       "      <td>Vendetta</td>\n",
       "      <td>Action, Drama</td>\n",
       "      <td>2015-06-12</td>\n",
       "      <td>c74aec7673</td>\n",
       "      <td>ebf43c36b6</td>\n",
       "    </tr>\n",
       "    <tr>\n",
       "      <th>4</th>\n",
       "      <td>58777</td>\n",
       "      <td>2017-01-01 19:16:37</td>\n",
       "      <td>0.0</td>\n",
       "      <td>The SpongeBob SquarePants Movie</td>\n",
       "      <td>Animation, Action, Adventure, Comedy, Family, ...</td>\n",
       "      <td>2004-11-19</td>\n",
       "      <td>a80d6fc2aa</td>\n",
       "      <td>a57c992287</td>\n",
       "    </tr>\n",
       "  </tbody>\n",
       "</table>\n",
       "</div>"
      ],
      "text/plain": [
       "   Unnamed: 0             datetime  duration  \\\n",
       "0       58773  2017-01-01 01:15:09       0.0   \n",
       "1       58774  2017-01-01 13:56:02       0.0   \n",
       "2       58775  2017-01-01 15:17:47   10530.0   \n",
       "3       58776  2017-01-01 16:04:13      49.0   \n",
       "4       58777  2017-01-01 19:16:37       0.0   \n",
       "\n",
       "                                title  \\\n",
       "0  Angus, Thongs and Perfect Snogging   \n",
       "1        The Curse of Sleeping Beauty   \n",
       "2                   London Has Fallen   \n",
       "3                            Vendetta   \n",
       "4     The SpongeBob SquarePants Movie   \n",
       "\n",
       "                                              genres release_date    movie_id  \\\n",
       "0                             Comedy, Drama, Romance   2008-07-25  26bd5987e8   \n",
       "1                 Fantasy, Horror, Mystery, Thriller   2016-06-02  f26ed2675e   \n",
       "2                                   Action, Thriller   2016-03-04  f77e500e7a   \n",
       "3                                      Action, Drama   2015-06-12  c74aec7673   \n",
       "4  Animation, Action, Adventure, Comedy, Family, ...   2004-11-19  a80d6fc2aa   \n",
       "\n",
       "      user_id  \n",
       "0  1dea19f6fe  \n",
       "1  544dcbc510  \n",
       "2  7cbcc791bf  \n",
       "3  ebf43c36b6  \n",
       "4  a57c992287  "
      ]
     },
     "metadata": {},
     "output_type": "display_data"
    }
   ],
   "source": [
    "data.head()"
   ]
  },
  {
   "cell_type": "code",
   "execution_count": null,
   "metadata": {},
   "outputs": [
    {
     "data": {
      "text/html": [
       "<div>\n",
       "<style scoped>\n",
       "    .dataframe tbody tr th:only-of-type {\n",
       "        vertical-align: middle;\n",
       "    }\n",
       "\n",
       "    .dataframe tbody tr th {\n",
       "        vertical-align: top;\n",
       "    }\n",
       "\n",
       "    .dataframe thead th {\n",
       "        text-align: right;\n",
       "    }\n",
       "</style>\n",
       "<table border=\"1\" class=\"dataframe\">\n",
       "  <thead>\n",
       "    <tr style=\"text-align: right;\">\n",
       "      <th></th>\n",
       "      <th>title</th>\n",
       "      <th>genres</th>\n",
       "      <th>clicks</th>\n",
       "    </tr>\n",
       "  </thead>\n",
       "  <tbody>\n",
       "    <tr>\n",
       "      <th>1035</th>\n",
       "      <td>Black Mirror: Bandersnatch</td>\n",
       "      <td>Drama, Mystery, Sci-Fi, Thriller</td>\n",
       "      <td>6436</td>\n",
       "    </tr>\n",
       "    <tr>\n",
       "      <th>1207</th>\n",
       "      <td>Bright</td>\n",
       "      <td>Action, Fantasy, Thriller</td>\n",
       "      <td>3110</td>\n",
       "    </tr>\n",
       "    <tr>\n",
       "      <th>705</th>\n",
       "      <td>Avengers: Age of Ultron</td>\n",
       "      <td>Action, Adventure, Sci-Fi</td>\n",
       "      <td>2898</td>\n",
       "    </tr>\n",
       "    <tr>\n",
       "      <th>589</th>\n",
       "      <td>Annihilation</td>\n",
       "      <td>Adventure, Drama, Horror, Mystery, Sci-Fi, Thr...</td>\n",
       "      <td>2699</td>\n",
       "    </tr>\n",
       "    <tr>\n",
       "      <th>2967</th>\n",
       "      <td>Hot Fuzz</td>\n",
       "      <td>Action, Comedy, Mystery, Thriller</td>\n",
       "      <td>2674</td>\n",
       "    </tr>\n",
       "    <tr>\n",
       "      <th>1761</th>\n",
       "      <td>Deadpool</td>\n",
       "      <td>Action, Adventure, Comedy, Sci-Fi</td>\n",
       "      <td>2576</td>\n",
       "    </tr>\n",
       "    <tr>\n",
       "      <th>1018</th>\n",
       "      <td>Bird Box</td>\n",
       "      <td>Drama, Horror, Sci-Fi</td>\n",
       "      <td>2549</td>\n",
       "    </tr>\n",
       "    <tr>\n",
       "      <th>2221</th>\n",
       "      <td>FYRE: The Greatest Party That Never Happened</td>\n",
       "      <td>Documentary, Music</td>\n",
       "      <td>2332</td>\n",
       "    </tr>\n",
       "    <tr>\n",
       "      <th>6399</th>\n",
       "      <td>The Big Short</td>\n",
       "      <td>Biography, Comedy, Drama, History</td>\n",
       "      <td>2204</td>\n",
       "    </tr>\n",
       "    <tr>\n",
       "      <th>6826</th>\n",
       "      <td>The Hitman's Bodyguard</td>\n",
       "      <td>Action, Comedy, Crime, Thriller</td>\n",
       "      <td>2179</td>\n",
       "    </tr>\n",
       "  </tbody>\n",
       "</table>\n",
       "</div>"
      ],
      "text/plain": [
       "                                             title  \\\n",
       "1035                    Black Mirror: Bandersnatch   \n",
       "1207                                        Bright   \n",
       "705                        Avengers: Age of Ultron   \n",
       "589                                   Annihilation   \n",
       "2967                                      Hot Fuzz   \n",
       "1761                                      Deadpool   \n",
       "1018                                      Bird Box   \n",
       "2221  FYRE: The Greatest Party That Never Happened   \n",
       "6399                                 The Big Short   \n",
       "6826                        The Hitman's Bodyguard   \n",
       "\n",
       "                                                 genres  clicks  \n",
       "1035                   Drama, Mystery, Sci-Fi, Thriller    6436  \n",
       "1207                          Action, Fantasy, Thriller    3110  \n",
       "705                           Action, Adventure, Sci-Fi    2898  \n",
       "589   Adventure, Drama, Horror, Mystery, Sci-Fi, Thr...    2699  \n",
       "2967                  Action, Comedy, Mystery, Thriller    2674  \n",
       "1761                  Action, Adventure, Comedy, Sci-Fi    2576  \n",
       "1018                              Drama, Horror, Sci-Fi    2549  \n",
       "2221                                 Documentary, Music    2332  \n",
       "6399                  Biography, Comedy, Drama, History    2204  \n",
       "6826                    Action, Comedy, Crime, Thriller    2179  "
      ]
     },
     "metadata": {},
     "output_type": "display_data"
    }
   ],
   "source": [
    "# Group data by user ID and movie title, count clicks, and sort in descending order\n",
    "result = data.groupby(['title', 'genres']).size().reset_index(name='clicks')\n",
    "result_sorted = result.sort_values(by='clicks', ascending=False).head(10)[['title', 'genres', 'clicks']]\n",
    "\n",
    "result_sorted"
   ]
  },
  {
   "cell_type": "markdown",
   "metadata": {},
   "source": [
    "### 1.2 Minhash Signatures \n",
    "Using the movie genre and user_ids, try to implement your min-hash signatures so that users with similar interests in a genre appear in the same bucket. \n",
    "\n",
    "__Important note:__ You must write your minhash function from scratch.  You are not permitted to use any already implemented hash functions.  Read the class materials and, if necessary, conduct an internet search.  The description of hash functions in the [book](http://infolab.stanford.edu/~ullman/mmds/ch3n.pdf) may be helpful as a reference.\n"
   ]
  },
  {
   "cell_type": "markdown",
   "metadata": {},
   "source": [
    "To create a min-hash signatures, we first need to create a signature matrix (rows = hashes, columns = user_index). \n",
    "\n",
    "Let's start by copying only the columns user_id and genres from the original dataset. "
   ]
  },
  {
   "cell_type": "code",
   "execution_count": null,
   "metadata": {},
   "outputs": [
    {
     "data": {
      "text/html": [
       "<div>\n",
       "<style scoped>\n",
       "    .dataframe tbody tr th:only-of-type {\n",
       "        vertical-align: middle;\n",
       "    }\n",
       "\n",
       "    .dataframe tbody tr th {\n",
       "        vertical-align: top;\n",
       "    }\n",
       "\n",
       "    .dataframe thead th {\n",
       "        text-align: right;\n",
       "    }\n",
       "</style>\n",
       "<table border=\"1\" class=\"dataframe\">\n",
       "  <thead>\n",
       "    <tr style=\"text-align: right;\">\n",
       "      <th></th>\n",
       "      <th>user_id</th>\n",
       "      <th>genres</th>\n",
       "    </tr>\n",
       "  </thead>\n",
       "  <tbody>\n",
       "    <tr>\n",
       "      <th>0</th>\n",
       "      <td>1dea19f6fe</td>\n",
       "      <td>Comedy, Drama, Romance</td>\n",
       "    </tr>\n",
       "    <tr>\n",
       "      <th>1</th>\n",
       "      <td>544dcbc510</td>\n",
       "      <td>Fantasy, Horror, Mystery, Thriller</td>\n",
       "    </tr>\n",
       "    <tr>\n",
       "      <th>2</th>\n",
       "      <td>7cbcc791bf</td>\n",
       "      <td>Action, Thriller</td>\n",
       "    </tr>\n",
       "    <tr>\n",
       "      <th>3</th>\n",
       "      <td>ebf43c36b6</td>\n",
       "      <td>Action, Drama</td>\n",
       "    </tr>\n",
       "    <tr>\n",
       "      <th>4</th>\n",
       "      <td>a57c992287</td>\n",
       "      <td>Animation, Action, Adventure, Comedy, Family, ...</td>\n",
       "    </tr>\n",
       "    <tr>\n",
       "      <th>...</th>\n",
       "      <td>...</td>\n",
       "      <td>...</td>\n",
       "    </tr>\n",
       "    <tr>\n",
       "      <th>671731</th>\n",
       "      <td>57501964fd</td>\n",
       "      <td>Talk-Show</td>\n",
       "    </tr>\n",
       "    <tr>\n",
       "      <th>671732</th>\n",
       "      <td>d4fcb079ba</td>\n",
       "      <td>Animation, Action, Adventure, Family, Sci-Fi</td>\n",
       "    </tr>\n",
       "    <tr>\n",
       "      <th>671733</th>\n",
       "      <td>4a14a2cd5a</td>\n",
       "      <td>Action, Adventure, Sci-Fi</td>\n",
       "    </tr>\n",
       "    <tr>\n",
       "      <th>671734</th>\n",
       "      <td>0b8163ea4b</td>\n",
       "      <td>Documentary, Music</td>\n",
       "    </tr>\n",
       "    <tr>\n",
       "      <th>671735</th>\n",
       "      <td>5e5755d816</td>\n",
       "      <td>Comedy, Drama</td>\n",
       "    </tr>\n",
       "  </tbody>\n",
       "</table>\n",
       "<p>671736 rows × 2 columns</p>\n",
       "</div>"
      ],
      "text/plain": [
       "           user_id                                             genres\n",
       "0       1dea19f6fe                             Comedy, Drama, Romance\n",
       "1       544dcbc510                 Fantasy, Horror, Mystery, Thriller\n",
       "2       7cbcc791bf                                   Action, Thriller\n",
       "3       ebf43c36b6                                      Action, Drama\n",
       "4       a57c992287  Animation, Action, Adventure, Comedy, Family, ...\n",
       "...            ...                                                ...\n",
       "671731  57501964fd                                          Talk-Show\n",
       "671732  d4fcb079ba       Animation, Action, Adventure, Family, Sci-Fi\n",
       "671733  4a14a2cd5a                          Action, Adventure, Sci-Fi\n",
       "671734  0b8163ea4b                                 Documentary, Music\n",
       "671735  5e5755d816                                      Comedy, Drama\n",
       "\n",
       "[671736 rows x 2 columns]"
      ]
     },
     "metadata": {},
     "output_type": "display_data"
    }
   ],
   "source": [
    "data_minhash = data[['user_id', 'genres']].copy()\n",
    "data_minhash"
   ]
  },
  {
   "cell_type": "code",
   "execution_count": null,
   "metadata": {},
   "outputs": [
    {
     "data": {
      "text/plain": [
       "0"
      ]
     },
     "metadata": {},
     "output_type": "display_data"
    }
   ],
   "source": [
    "# Check for the NA values \n",
    "# There are no NA values\n",
    "data_minhash['genres'].isna().sum()"
   ]
  },
  {
   "cell_type": "markdown",
   "metadata": {},
   "source": [
    "Now, we need to preprocess the genres column for future vocabulary creation"
   ]
  },
  {
   "cell_type": "code",
   "execution_count": null,
   "metadata": {},
   "outputs": [],
   "source": [
    "# Preprocess the genres column (stemming, tokenize, stopwords)\n",
    "def preprocess_column(df_column):\n",
    "    stemmer = PorterStemmer()\n",
    "    lst_stopwords = stopwords.words('english')\n",
    "    return df_column.apply(lambda row: [stemmer.stem(word) for word in nltk.word_tokenize(row) if not word in lst_stopwords])"
   ]
  },
  {
   "cell_type": "code",
   "execution_count": null,
   "metadata": {},
   "outputs": [],
   "source": [
    "data_minhash['genres_clean'] = preprocess_column(data_minhash.genres)"
   ]
  },
  {
   "cell_type": "code",
   "execution_count": null,
   "metadata": {},
   "outputs": [
    {
     "data": {
      "text/html": [
       "<div>\n",
       "<style scoped>\n",
       "    .dataframe tbody tr th:only-of-type {\n",
       "        vertical-align: middle;\n",
       "    }\n",
       "\n",
       "    .dataframe tbody tr th {\n",
       "        vertical-align: top;\n",
       "    }\n",
       "\n",
       "    .dataframe thead th {\n",
       "        text-align: right;\n",
       "    }\n",
       "</style>\n",
       "<table border=\"1\" class=\"dataframe\">\n",
       "  <thead>\n",
       "    <tr style=\"text-align: right;\">\n",
       "      <th></th>\n",
       "      <th>user_id</th>\n",
       "      <th>genres</th>\n",
       "      <th>genres_clean</th>\n",
       "    </tr>\n",
       "  </thead>\n",
       "  <tbody>\n",
       "    <tr>\n",
       "      <th>0</th>\n",
       "      <td>1dea19f6fe</td>\n",
       "      <td>Comedy, Drama, Romance</td>\n",
       "      <td>[comedi, ,, drama, ,, romanc]</td>\n",
       "    </tr>\n",
       "    <tr>\n",
       "      <th>1</th>\n",
       "      <td>544dcbc510</td>\n",
       "      <td>Fantasy, Horror, Mystery, Thriller</td>\n",
       "      <td>[fantasi, ,, horror, ,, mysteri, ,, thriller]</td>\n",
       "    </tr>\n",
       "    <tr>\n",
       "      <th>2</th>\n",
       "      <td>7cbcc791bf</td>\n",
       "      <td>Action, Thriller</td>\n",
       "      <td>[action, ,, thriller]</td>\n",
       "    </tr>\n",
       "    <tr>\n",
       "      <th>3</th>\n",
       "      <td>ebf43c36b6</td>\n",
       "      <td>Action, Drama</td>\n",
       "      <td>[action, ,, drama]</td>\n",
       "    </tr>\n",
       "    <tr>\n",
       "      <th>4</th>\n",
       "      <td>a57c992287</td>\n",
       "      <td>Animation, Action, Adventure, Comedy, Family, ...</td>\n",
       "      <td>[anim, ,, action, ,, adventur, ,, comedi, ,, f...</td>\n",
       "    </tr>\n",
       "  </tbody>\n",
       "</table>\n",
       "</div>"
      ],
      "text/plain": [
       "      user_id                                             genres  \\\n",
       "0  1dea19f6fe                             Comedy, Drama, Romance   \n",
       "1  544dcbc510                 Fantasy, Horror, Mystery, Thriller   \n",
       "2  7cbcc791bf                                   Action, Thriller   \n",
       "3  ebf43c36b6                                      Action, Drama   \n",
       "4  a57c992287  Animation, Action, Adventure, Comedy, Family, ...   \n",
       "\n",
       "                                        genres_clean  \n",
       "0                      [comedi, ,, drama, ,, romanc]  \n",
       "1      [fantasi, ,, horror, ,, mysteri, ,, thriller]  \n",
       "2                              [action, ,, thriller]  \n",
       "3                                 [action, ,, drama]  \n",
       "4  [anim, ,, action, ,, adventur, ,, comedi, ,, f...  "
      ]
     },
     "metadata": {},
     "output_type": "display_data"
    }
   ],
   "source": [
    "data_minhash.head()"
   ]
  },
  {
   "cell_type": "code",
   "execution_count": null,
   "metadata": {},
   "outputs": [
    {
     "data": {
      "text/plain": [
       "{',',\n",
       " 'action',\n",
       " 'adventur',\n",
       " 'anim',\n",
       " 'avail',\n",
       " 'biographi',\n",
       " 'comedi',\n",
       " 'crime',\n",
       " 'documentari',\n",
       " 'drama',\n",
       " 'famili',\n",
       " 'fantasi',\n",
       " 'film-noir',\n",
       " 'histori',\n",
       " 'horror',\n",
       " 'music',\n",
       " 'mysteri',\n",
       " 'new',\n",
       " 'not',\n",
       " 'reality-tv',\n",
       " 'romanc',\n",
       " 'sci-fi',\n",
       " 'short',\n",
       " 'sport',\n",
       " 'talk-show',\n",
       " 'thriller',\n",
       " 'war',\n",
       " 'western'}"
      ]
     },
     "metadata": {},
     "output_type": "display_data"
    }
   ],
   "source": [
    "# By printing the unique genres we can notice that \n",
    "# there are values such as 'NOT AVAILABLE' and there is also a comma\n",
    "# and we should remove it: \n",
    "unique_genres = set(genre for sublist in data_minhash['genres_clean'] for genre in sublist)\n",
    "unique_genres"
   ]
  },
  {
   "cell_type": "code",
   "execution_count": null,
   "metadata": {},
   "outputs": [],
   "source": [
    "# Since we have noticed that some genres include 'NOT AVAILABLE' value \n",
    "# We need to remove it \n",
    "\n",
    "# Preprocess string (stemming, tokenize, stopwords)\n",
    "def preprocess_string(string):\n",
    "    stemmer = PorterStemmer()\n",
    "    return [stemmer.stem(word) for word in nltk.word_tokenize(string)]\n",
    "\n",
    "# Preprocess the 'NOT AVAILABLE' as we did for genres column\n",
    "remove_words = preprocess_string(', NOT AVAILABLE')\n",
    "\n",
    "# Iterate over the DataFrame and update each row's genres_clean\n",
    "for index, row in data_minhash.iterrows():\n",
    "    # Remove the unwanted words from genres_clean list\n",
    "    data_minhash.at[index, 'genres_clean'] = [word for word in row['genres_clean'] if word not in remove_words]\n"
   ]
  },
  {
   "cell_type": "markdown",
   "metadata": {},
   "source": [
    "Vocabulary of unique genres from the genres_clean column. There 25 unique genres. "
   ]
  },
  {
   "cell_type": "code",
   "execution_count": null,
   "metadata": {},
   "outputs": [
    {
     "data": {
      "text/plain": [
       "['fantasi',\n",
       " 'talk-show',\n",
       " 'drama',\n",
       " 'romanc',\n",
       " 'mysteri',\n",
       " 'documentari',\n",
       " 'short',\n",
       " 'music',\n",
       " 'horror',\n",
       " 'sci-fi',\n",
       " 'histori',\n",
       " 'adventur',\n",
       " 'sport',\n",
       " 'famili',\n",
       " 'crime',\n",
       " 'reality-tv',\n",
       " 'biographi',\n",
       " 'thriller',\n",
       " 'action',\n",
       " 'comedi',\n",
       " 'anim',\n",
       " 'war',\n",
       " 'film-noir',\n",
       " 'new',\n",
       " 'western']"
      ]
     },
     "metadata": {},
     "output_type": "display_data"
    }
   ],
   "source": [
    "unique_genres = list(set(genre for sublist in data_minhash['genres_clean'] for genre in sublist))\n",
    "unique_genres"
   ]
  },
  {
   "cell_type": "markdown",
   "metadata": {},
   "source": [
    "The same user could appear in several rows. We have to group all rows by user_id to have a total list of genres in which the user is interested in."
   ]
  },
  {
   "cell_type": "code",
   "execution_count": null,
   "metadata": {},
   "outputs": [
    {
     "data": {
      "text/html": [
       "<div>\n",
       "<style scoped>\n",
       "    .dataframe tbody tr th:only-of-type {\n",
       "        vertical-align: middle;\n",
       "    }\n",
       "\n",
       "    .dataframe tbody tr th {\n",
       "        vertical-align: top;\n",
       "    }\n",
       "\n",
       "    .dataframe thead th {\n",
       "        text-align: right;\n",
       "    }\n",
       "</style>\n",
       "<table border=\"1\" class=\"dataframe\">\n",
       "  <thead>\n",
       "    <tr style=\"text-align: right;\">\n",
       "      <th></th>\n",
       "      <th>user_id</th>\n",
       "      <th>genres_clean</th>\n",
       "    </tr>\n",
       "  </thead>\n",
       "  <tbody>\n",
       "    <tr>\n",
       "      <th>0</th>\n",
       "      <td>00004e2862</td>\n",
       "      <td>[thriller, crime, drama]</td>\n",
       "    </tr>\n",
       "    <tr>\n",
       "      <th>1</th>\n",
       "      <td>000052a0a0</td>\n",
       "      <td>[fantasi, crime, thriller, drama, action, sci-...</td>\n",
       "    </tr>\n",
       "    <tr>\n",
       "      <th>2</th>\n",
       "      <td>000090e7c8</td>\n",
       "      <td>[thriller, mysteri, sci-fi]</td>\n",
       "    </tr>\n",
       "    <tr>\n",
       "      <th>3</th>\n",
       "      <td>000118a755</td>\n",
       "      <td>[horror]</td>\n",
       "    </tr>\n",
       "    <tr>\n",
       "      <th>4</th>\n",
       "      <td>000296842d</td>\n",
       "      <td>[mysteri, thriller, drama, sci-fi]</td>\n",
       "    </tr>\n",
       "  </tbody>\n",
       "</table>\n",
       "</div>"
      ],
      "text/plain": [
       "      user_id                                       genres_clean\n",
       "0  00004e2862                           [thriller, crime, drama]\n",
       "1  000052a0a0  [fantasi, crime, thriller, drama, action, sci-...\n",
       "2  000090e7c8                        [thriller, mysteri, sci-fi]\n",
       "3  000118a755                                           [horror]\n",
       "4  000296842d                 [mysteri, thriller, drama, sci-fi]"
      ]
     },
     "metadata": {},
     "output_type": "display_data"
    }
   ],
   "source": [
    "def accumulate_genres(series):\n",
    "    return set().union(*series)\n",
    "\n",
    "# Group by user_id\n",
    "data_minhash = data_minhash.groupby(by='user_id').agg({'genres_clean': accumulate_genres}).reset_index()\n",
    "data_minhash['genres_clean'] = data_minhash['genres_clean'].map(list)\n",
    "data_minhash.head()"
   ]
  },
  {
   "cell_type": "markdown",
   "metadata": {},
   "source": [
    "Let's now see if there are any empty lists in genres_clean"
   ]
  },
  {
   "cell_type": "code",
   "execution_count": null,
   "metadata": {},
   "outputs": [
    {
     "name": "stdout",
     "output_type": "stream",
     "text": [
      "Number of empty lists: 3607\n"
     ]
    }
   ],
   "source": [
    "count_empty_lists = (data_minhash['genres_clean'].apply(lambda x: x == [])).sum()\n",
    "\n",
    "print(\"Number of empty lists:\", count_empty_lists)"
   ]
  },
  {
   "cell_type": "markdown",
   "metadata": {},
   "source": [
    "We need to remove these rows with empty genres lists"
   ]
  },
  {
   "cell_type": "code",
   "execution_count": null,
   "metadata": {},
   "outputs": [],
   "source": [
    "# Filter out rows where 'genres_clean' has an empty list\n",
    "data_minhash = data_minhash[data_minhash['genres_clean'].apply(lambda x: x != [])]\n"
   ]
  },
  {
   "cell_type": "code",
   "execution_count": null,
   "metadata": {},
   "outputs": [
    {
     "data": {
      "text/html": [
       "<div>\n",
       "<style scoped>\n",
       "    .dataframe tbody tr th:only-of-type {\n",
       "        vertical-align: middle;\n",
       "    }\n",
       "\n",
       "    .dataframe tbody tr th {\n",
       "        vertical-align: top;\n",
       "    }\n",
       "\n",
       "    .dataframe thead th {\n",
       "        text-align: right;\n",
       "    }\n",
       "</style>\n",
       "<table border=\"1\" class=\"dataframe\">\n",
       "  <thead>\n",
       "    <tr style=\"text-align: right;\">\n",
       "      <th></th>\n",
       "      <th>user_id</th>\n",
       "      <th>genres_clean</th>\n",
       "    </tr>\n",
       "  </thead>\n",
       "  <tbody>\n",
       "    <tr>\n",
       "      <th>0</th>\n",
       "      <td>00004e2862</td>\n",
       "      <td>[thriller, crime, drama]</td>\n",
       "    </tr>\n",
       "    <tr>\n",
       "      <th>1</th>\n",
       "      <td>000052a0a0</td>\n",
       "      <td>[fantasi, crime, thriller, drama, action, sci-...</td>\n",
       "    </tr>\n",
       "    <tr>\n",
       "      <th>2</th>\n",
       "      <td>000090e7c8</td>\n",
       "      <td>[thriller, mysteri, sci-fi]</td>\n",
       "    </tr>\n",
       "    <tr>\n",
       "      <th>3</th>\n",
       "      <td>000118a755</td>\n",
       "      <td>[horror]</td>\n",
       "    </tr>\n",
       "    <tr>\n",
       "      <th>4</th>\n",
       "      <td>000296842d</td>\n",
       "      <td>[mysteri, thriller, drama, sci-fi]</td>\n",
       "    </tr>\n",
       "    <tr>\n",
       "      <th>...</th>\n",
       "      <td>...</td>\n",
       "      <td>...</td>\n",
       "    </tr>\n",
       "    <tr>\n",
       "      <th>161913</th>\n",
       "      <td>fffd9bf758</td>\n",
       "      <td>[crime, mysteri, documentari]</td>\n",
       "    </tr>\n",
       "    <tr>\n",
       "      <th>161914</th>\n",
       "      <td>fffe7b777b</td>\n",
       "      <td>[thriller, drama, sci-fi]</td>\n",
       "    </tr>\n",
       "    <tr>\n",
       "      <th>161915</th>\n",
       "      <td>fffeac83be</td>\n",
       "      <td>[war, crime, biographi, drama, histori, myster...</td>\n",
       "    </tr>\n",
       "    <tr>\n",
       "      <th>161916</th>\n",
       "      <td>ffff2c5f9e</td>\n",
       "      <td>[thriller, mysteri, action, documentari, comedi]</td>\n",
       "    </tr>\n",
       "    <tr>\n",
       "      <th>161917</th>\n",
       "      <td>ffffd36adf</td>\n",
       "      <td>[crime, drama]</td>\n",
       "    </tr>\n",
       "  </tbody>\n",
       "</table>\n",
       "<p>158311 rows × 2 columns</p>\n",
       "</div>"
      ],
      "text/plain": [
       "           user_id                                       genres_clean\n",
       "0       00004e2862                           [thriller, crime, drama]\n",
       "1       000052a0a0  [fantasi, crime, thriller, drama, action, sci-...\n",
       "2       000090e7c8                        [thriller, mysteri, sci-fi]\n",
       "3       000118a755                                           [horror]\n",
       "4       000296842d                 [mysteri, thriller, drama, sci-fi]\n",
       "...            ...                                                ...\n",
       "161913  fffd9bf758                      [crime, mysteri, documentari]\n",
       "161914  fffe7b777b                          [thriller, drama, sci-fi]\n",
       "161915  fffeac83be  [war, crime, biographi, drama, histori, myster...\n",
       "161916  ffff2c5f9e   [thriller, mysteri, action, documentari, comedi]\n",
       "161917  ffffd36adf                                     [crime, drama]\n",
       "\n",
       "[158311 rows x 2 columns]"
      ]
     },
     "metadata": {},
     "output_type": "display_data"
    }
   ],
   "source": [
    "data_minhash"
   ]
  },
  {
   "cell_type": "markdown",
   "metadata": {},
   "source": [
    "the index number != row number \n",
    "we have to reset the index"
   ]
  },
  {
   "cell_type": "code",
   "execution_count": null,
   "metadata": {},
   "outputs": [
    {
     "data": {
      "text/html": [
       "<div>\n",
       "<style scoped>\n",
       "    .dataframe tbody tr th:only-of-type {\n",
       "        vertical-align: middle;\n",
       "    }\n",
       "\n",
       "    .dataframe tbody tr th {\n",
       "        vertical-align: top;\n",
       "    }\n",
       "\n",
       "    .dataframe thead th {\n",
       "        text-align: right;\n",
       "    }\n",
       "</style>\n",
       "<table border=\"1\" class=\"dataframe\">\n",
       "  <thead>\n",
       "    <tr style=\"text-align: right;\">\n",
       "      <th></th>\n",
       "      <th>user_id</th>\n",
       "      <th>genres_clean</th>\n",
       "    </tr>\n",
       "  </thead>\n",
       "  <tbody>\n",
       "    <tr>\n",
       "      <th>0</th>\n",
       "      <td>00004e2862</td>\n",
       "      <td>[thriller, crime, drama]</td>\n",
       "    </tr>\n",
       "    <tr>\n",
       "      <th>1</th>\n",
       "      <td>000052a0a0</td>\n",
       "      <td>[fantasi, crime, thriller, drama, action, sci-...</td>\n",
       "    </tr>\n",
       "    <tr>\n",
       "      <th>2</th>\n",
       "      <td>000090e7c8</td>\n",
       "      <td>[thriller, mysteri, sci-fi]</td>\n",
       "    </tr>\n",
       "    <tr>\n",
       "      <th>3</th>\n",
       "      <td>000118a755</td>\n",
       "      <td>[horror]</td>\n",
       "    </tr>\n",
       "    <tr>\n",
       "      <th>4</th>\n",
       "      <td>000296842d</td>\n",
       "      <td>[mysteri, thriller, drama, sci-fi]</td>\n",
       "    </tr>\n",
       "    <tr>\n",
       "      <th>...</th>\n",
       "      <td>...</td>\n",
       "      <td>...</td>\n",
       "    </tr>\n",
       "    <tr>\n",
       "      <th>158306</th>\n",
       "      <td>fffd9bf758</td>\n",
       "      <td>[crime, mysteri, documentari]</td>\n",
       "    </tr>\n",
       "    <tr>\n",
       "      <th>158307</th>\n",
       "      <td>fffe7b777b</td>\n",
       "      <td>[thriller, drama, sci-fi]</td>\n",
       "    </tr>\n",
       "    <tr>\n",
       "      <th>158308</th>\n",
       "      <td>fffeac83be</td>\n",
       "      <td>[war, crime, biographi, drama, histori, myster...</td>\n",
       "    </tr>\n",
       "    <tr>\n",
       "      <th>158309</th>\n",
       "      <td>ffff2c5f9e</td>\n",
       "      <td>[thriller, mysteri, action, documentari, comedi]</td>\n",
       "    </tr>\n",
       "    <tr>\n",
       "      <th>158310</th>\n",
       "      <td>ffffd36adf</td>\n",
       "      <td>[crime, drama]</td>\n",
       "    </tr>\n",
       "  </tbody>\n",
       "</table>\n",
       "<p>158311 rows × 2 columns</p>\n",
       "</div>"
      ],
      "text/plain": [
       "           user_id                                       genres_clean\n",
       "0       00004e2862                           [thriller, crime, drama]\n",
       "1       000052a0a0  [fantasi, crime, thriller, drama, action, sci-...\n",
       "2       000090e7c8                        [thriller, mysteri, sci-fi]\n",
       "3       000118a755                                           [horror]\n",
       "4       000296842d                 [mysteri, thriller, drama, sci-fi]\n",
       "...            ...                                                ...\n",
       "158306  fffd9bf758                      [crime, mysteri, documentari]\n",
       "158307  fffe7b777b                          [thriller, drama, sci-fi]\n",
       "158308  fffeac83be  [war, crime, biographi, drama, histori, myster...\n",
       "158309  ffff2c5f9e   [thriller, mysteri, action, documentari, comedi]\n",
       "158310  ffffd36adf                                     [crime, drama]\n",
       "\n",
       "[158311 rows x 2 columns]"
      ]
     },
     "metadata": {},
     "output_type": "display_data"
    }
   ],
   "source": [
    "data_minhash.reset_index(drop=True, inplace=True)\n",
    "data_minhash"
   ]
  },
  {
   "cell_type": "markdown",
   "metadata": {},
   "source": [
    "Now we need to create signature_dict which will store the index for each genre."
   ]
  },
  {
   "cell_type": "code",
   "execution_count": null,
   "metadata": {},
   "outputs": [
    {
     "data": {
      "text/plain": [
       "{'fantasi': 0,\n",
       " 'talk-show': 1,\n",
       " 'drama': 2,\n",
       " 'romanc': 3,\n",
       " 'mysteri': 4,\n",
       " 'documentari': 5,\n",
       " 'short': 6,\n",
       " 'music': 7,\n",
       " 'horror': 8,\n",
       " 'sci-fi': 9,\n",
       " 'histori': 10,\n",
       " 'adventur': 11,\n",
       " 'sport': 12,\n",
       " 'famili': 13,\n",
       " 'crime': 14,\n",
       " 'reality-tv': 15,\n",
       " 'biographi': 16,\n",
       " 'thriller': 17,\n",
       " 'action': 18,\n",
       " 'comedi': 19,\n",
       " 'anim': 20,\n",
       " 'war': 21,\n",
       " 'film-noir': 22,\n",
       " 'new': 23,\n",
       " 'western': 24}"
      ]
     },
     "metadata": {},
     "output_type": "display_data"
    }
   ],
   "source": [
    "signature_dict = {}\n",
    "for i, genre in enumerate(unique_genres):\n",
    "    signature_dict[genre] = i\n",
    "signature_dict"
   ]
  },
  {
   "cell_type": "markdown",
   "metadata": {},
   "source": [
    "**Hash Functions Creation**\n",
    "\n",
    "Now, we need to create hash functions. \n",
    "\n",
    "The inputs for each hash function will be a genre index.\n",
    "\n",
    "The output will be a hashed value.\n",
    "\n",
    "Our hash function is as the following:\n",
    "$$hash(x) = (a_1 x + a_2 x + a_3 x + a_4) \\mod m$$\n",
    "\n",
    "where:\n",
    "- $ m = 29 $ (should be a prime number greater than max(x) = 24);\n",
    "- $ x = \\{0,1,2,\\ldots, 24\\}  $ ;\n",
    "- $ a_i = \\{0,1,2,\\ldots, 28\\}  $ ;\n"
   ]
  },
  {
   "cell_type": "code",
   "execution_count": null,
   "metadata": {},
   "outputs": [],
   "source": [
    "N = 25  # Number of elements in signature_dict\n",
    "num_hashs = 12  # Number of hash functions\n",
    "m = 29  # A prime number as modulus, larger than N\n",
    "\n",
    "# Generating random coefficients a1, a2, a3, and a4 for each hash function\n",
    "a_values = np.random.randint(m, size=[num_hashs, 4])"
   ]
  },
  {
   "cell_type": "code",
   "execution_count": null,
   "metadata": {},
   "outputs": [
    {
     "data": {
      "text/plain": [
       "array([[12,  0,  0, 12],\n",
       "       [16,  2, 15, 22],\n",
       "       [13, 12, 14, 12],\n",
       "       [13,  3, 19, 19],\n",
       "       [22, 21,  8,  4],\n",
       "       [ 5, 11, 22, 10],\n",
       "       [11, 13,  6,  0],\n",
       "       [ 6, 19, 11, 12],\n",
       "       [28,  5, 10, 11],\n",
       "       [ 9, 10, 21, 16],\n",
       "       [ 4, 17, 20,  9],\n",
       "       [12, 24, 12, 13]])"
      ]
     },
     "metadata": {},
     "output_type": "display_data"
    }
   ],
   "source": [
    "a_values"
   ]
  },
  {
   "cell_type": "code",
   "execution_count": null,
   "metadata": {},
   "outputs": [],
   "source": [
    "signature_matrix = np.ones((num_hashs, data_minhash.shape[0])) * np.inf"
   ]
  },
  {
   "cell_type": "code",
   "execution_count": null,
   "metadata": {},
   "outputs": [
    {
     "data": {
      "text/plain": [
       "array([[inf, inf, inf, ..., inf, inf, inf],\n",
       "       [inf, inf, inf, ..., inf, inf, inf],\n",
       "       [inf, inf, inf, ..., inf, inf, inf],\n",
       "       ...,\n",
       "       [inf, inf, inf, ..., inf, inf, inf],\n",
       "       [inf, inf, inf, ..., inf, inf, inf],\n",
       "       [inf, inf, inf, ..., inf, inf, inf]])"
      ]
     },
     "metadata": {},
     "output_type": "display_data"
    }
   ],
   "source": [
    "signature_matrix"
   ]
  },
  {
   "cell_type": "code",
   "execution_count": null,
   "metadata": {},
   "outputs": [],
   "source": [
    "# Define the hash function\n",
    "def hash_function(x, a_values, m):\n",
    "    return (a_values[:,0] * x + a_values[:,1] * x + a_values[:,2] * x + a_values[:,3]) % m"
   ]
  },
  {
   "cell_type": "code",
   "execution_count": null,
   "metadata": {},
   "outputs": [],
   "source": [
    "# Building the signature matrix\n",
    "for index, vector in data_minhash.iterrows():\n",
    "    shingles = vector['genres_clean']\n",
    "    genre_index_vector = np.array([signature_dict[shingle] for shingle in shingles])\n",
    "    \n",
    "    for each_genre in genre_index_vector:\n",
    "        hashed_genre = hash_function(each_genre, a_values, m)\n",
    "        signature_matrix[:, index] = np.minimum(signature_matrix[:, index], hashed_genre)"
   ]
  },
  {
   "cell_type": "code",
   "execution_count": null,
   "metadata": {},
   "outputs": [
    {
     "data": {
      "text/plain": [
       "array([[ 6.,  2.,  2., ...,  1.,  2.,  6.],\n",
       "       [ 1.,  0.,  0., ...,  1.,  3.,  1.],\n",
       "       [ 3.,  3.,  8., ...,  3.,  4.,  3.],\n",
       "       ...,\n",
       "       [ 0.,  0.,  0., ...,  2.,  0.,  9.],\n",
       "       [ 3.,  1.,  1., ...,  0.,  5.,  3.],\n",
       "       [17.,  1.,  2., ...,  0.,  2., 18.]])"
      ]
     },
     "metadata": {},
     "output_type": "display_data"
    }
   ],
   "source": [
    "signature_matrix"
   ]
  },
  {
   "cell_type": "code",
   "execution_count": null,
   "metadata": {},
   "outputs": [
    {
     "name": "stdout",
     "output_type": "stream",
     "text": [
      "Number of inf values: 0\n"
     ]
    }
   ],
   "source": [
    "# Counting the number of inf values\n",
    "num_inf_values = np.sum(np.isinf(signature_matrix))\n",
    "\n",
    "print(\"Number of inf values:\", num_inf_values)"
   ]
  },
  {
   "cell_type": "code",
   "execution_count": null,
   "metadata": {},
   "outputs": [],
   "source": [
    "signature_matrix = [[int(value) for value in row] for row in signature_matrix]"
   ]
  },
  {
   "cell_type": "markdown",
   "metadata": {},
   "source": [
    "To create a min-hash signatures so that users with similar interests in a genre appear in the same bucket. \n",
    "\n",
    "First, we need to divide the signature_matrix rows into several bands and we will look for similar user genre interests. If band = 1 than we will look for **exactly the same** genre interests, which result in little number of pairs. However, if the number of bands is 12 then we will have too much pairs that have at least 1 same genre. Therefore, it is decided to take 3 bands with 4 rows each ([source](https://www.pinecone.io/learn/series/faiss/locality-sensitive-hashing/))."
   ]
  },
  {
   "cell_type": "code",
   "execution_count": null,
   "metadata": {},
   "outputs": [],
   "source": [
    "def bucketsCreation(signature_matrix, bands):\n",
    "    signature_matrix_df = pd.DataFrame(signature_matrix)\n",
    "\n",
    "    num_hashes, num_users = signature_matrix_df.shape\n",
    "    band_size = num_hashes // bands\n",
    "    min_hash_signatures = {}\n",
    "\n",
    "    for j in range(num_users):\n",
    "        for i in range(bands):\n",
    "            # Extract the current band for this column using .iloc\n",
    "            start_row = i * band_size\n",
    "            end_row = start_row + band_size\n",
    "            band = signature_matrix_df.iloc[start_row:end_row, j]\n",
    "\n",
    "            # Create a hashable identifier for the band\n",
    "            band_id = tuple(band.tolist() + [i])\n",
    "\n",
    "            # Update the bucket with the current column index\n",
    "            if band_id in min_hash_signatures:\n",
    "                min_hash_signatures[band_id].add(j)\n",
    "            else:\n",
    "                min_hash_signatures[band_id] = {j}\n",
    "\n",
    "    # Filter out buckets with only one column index\n",
    "    min_hash_sign_buckets = [bucket for bucket in min_hash_signatures.values() if len(bucket) > 1]\n",
    "\n",
    "    return min_hash_sign_buckets\n"
   ]
  },
  {
   "cell_type": "code",
   "execution_count": null,
   "metadata": {},
   "outputs": [],
   "source": [
    "min_hash_pairs = bucketsCreation(signature_matrix, bands = 3)"
   ]
  },
  {
   "cell_type": "code",
   "execution_count": null,
   "metadata": {},
   "outputs": [
    {
     "data": {
      "text/plain": [
       "2017"
      ]
     },
     "metadata": {},
     "output_type": "display_data"
    }
   ],
   "source": [
    "len(min_hash_pairs)"
   ]
  },
  {
   "cell_type": "markdown",
   "metadata": {},
   "source": [
    "Here, min_hash_pairs have 2017 buckets (sets), where each set represents the users id that have the similar genre interests. "
   ]
  },
  {
   "cell_type": "markdown",
   "metadata": {},
   "source": [
    "# 2. Grouping Users together!"
   ]
  },
  {
   "cell_type": "markdown",
   "metadata": {},
   "source": [
    "## 2.1 Getting your data + feature engineering\n"
   ]
  },
  {
   "cell_type": "markdown",
   "metadata": {},
   "source": [
    "### Access to the data"
   ]
  },
  {
   "cell_type": "code",
   "execution_count": null,
   "metadata": {},
   "outputs": [],
   "source": [
    "df  = pd.read_csv('vodclickstream_uk_movies_03.csv', index_col=0)"
   ]
  },
  {
   "cell_type": "code",
   "execution_count": 199,
   "metadata": {},
   "outputs": [],
   "source": [
    "df = df[df['duration'] >= 0].copy()"
   ]
  },
  {
   "cell_type": "code",
   "execution_count": 200,
   "metadata": {},
   "outputs": [],
   "source": [
    "df['datetime'] = pd.to_datetime(df['datetime'])"
   ]
  },
  {
   "cell_type": "code",
   "execution_count": 201,
   "metadata": {},
   "outputs": [],
   "source": [
    "df['release_date'] = df['release_date'].apply(lambda x: x[:4] if x is not np.nan else np.nan)"
   ]
  },
  {
   "cell_type": "code",
   "execution_count": 202,
   "metadata": {},
   "outputs": [],
   "source": [
    "df.dropna(subset=['release_date'], inplace=True)"
   ]
  },
  {
   "cell_type": "code",
   "execution_count": 203,
   "metadata": {},
   "outputs": [],
   "source": [
    "df = df[df['release_date'] != 'NOT ']"
   ]
  },
  {
   "cell_type": "code",
   "execution_count": 204,
   "metadata": {},
   "outputs": [],
   "source": [
    "df['release_date'] = df['release_date'].astype(int)"
   ]
  },
  {
   "cell_type": "code",
   "execution_count": null,
   "metadata": {},
   "outputs": [],
   "source": [
    "df['genres_list'] "
   ]
  },
  {
   "cell_type": "markdown",
   "metadata": {},
   "source": [
    "### 2.1 Sometimes, the features (variables, fields) are not given in a dataset but can be created from it; this is known as feature engineering. For example, the original dataset has several clicks done by the same user, so grouping data by user_id will allow you to create new features for each user:\n",
    "\n",
    "a) Favorite genre (i.e., the genre on which the user spent the most time)\n",
    "\n",
    "b) Average click duration\n",
    "\n",
    "c) Time of the day (Morning/Afternoon/Night) when the user spends the most time on the platform (the time spent is tracked through the duration of the clicks)\n",
    "\n",
    "d) Is the user an old movie lover, or is he into more recent stuff (content released after 2010)?\n",
    "\n",
    "e) Average time spent a day by the user (considering only the days he logs in)"
   ]
  },
  {
   "cell_type": "code",
   "execution_count": 205,
   "metadata": {},
   "outputs": [],
   "source": [
    "#Favorite genre (i.e., the genre on which the user spent the most time)\n",
    "users = df.loc[df.groupby('user_id')['duration'].idxmax().values][['user_id', 'genres']].copy()\n",
    "users.reset_index(drop=True, inplace=True)\n",
    "users.rename(columns={'genres': 'favorite_genre'}, inplace=True)\n",
    "users['avg_click_duration'] = df.groupby('user_id')['duration'].mean().values\n"
   ]
  },
  {
   "cell_type": "code",
   "execution_count": 206,
   "metadata": {},
   "outputs": [],
   "source": [
    "users['time_of_day'] = df.groupby('user_id')['duration'].idxmax().apply(lambda x: df.loc[x, 'datetime'].hour).values\n",
    "users['time_of_day'] = users['time_of_day'].apply(lambda x: 'Morning' if x>=7 and x <12 else ('Afternoon' if x >= 12 and x < 18 else 'Night'))"
   ]
  },
  {
   "cell_type": "code",
   "execution_count": 207,
   "metadata": {},
   "outputs": [],
   "source": [
    "users['old_movie_lover'] = df.groupby('user_id')['release_date'].apply(lambda x: np.mean(x < 2010)).values"
   ]
  },
  {
   "cell_type": "code",
   "execution_count": 208,
   "metadata": {},
   "outputs": [],
   "source": [
    "users['old_movie_lover'] = users['old_movie_lover'].apply(lambda x: 'Yes' if x > 0.5 else 'No')"
   ]
  },
  {
   "cell_type": "code",
   "execution_count": 209,
   "metadata": {},
   "outputs": [],
   "source": [
    "df['date'] = df['datetime'].apply(lambda x: x.date())"
   ]
  },
  {
   "cell_type": "code",
   "execution_count": 210,
   "metadata": {},
   "outputs": [],
   "source": [
    "users['avg_time_spent'] = df.groupby('user_id')['duration'].sum().values / df.groupby('user_id')['date'].nunique().values"
   ]
  },
  {
   "cell_type": "markdown",
   "metadata": {},
   "source": [
    "Consider at least 10 additional features that can be generated for each user_id (you can use chatGPT or other LLM tools for suggesting features to create). Describe each of them and add them to the previous dataset you made (the one with five features). In the end, you should have for each user at least 15 features (5 recommended + 10 suggested by you)."
   ]
  },
  {
   "cell_type": "markdown",
   "metadata": {},
   "source": [
    "1. Genre Diversity: The count or percentage of different genres the user has clicked on. This can indicate the user's exploration of diverse content.\n",
    "\n",
    "2. Weekday vs. Weekend Activity Ratio: Ratio of clicks or time spent on the platform during weekdays versus weekends, providing insight into their usage patterns.\n",
    "\n",
    "3. Session Frequency: Average frequency of user sessions per day or per week, indicating how often they visit the platform.\n",
    "\n",
    "4. Duration of Longest Click: The duration of the longest single click made by the user, highlighting their engagement with specific content.\n",
    "\n",
    "5. Clicks per Year: The average number of clicks made by the user per year, showing their long-term activity trend.\n",
    "\n",
    "6. Clicks per Month: The average number of clicks made by the user per month, showing their long-term activity trend.\n",
    "\n",
    "7. Time Spent on Latest Release: Percentage of time spent on content released within the last month or quarter, indicating their interest in recent releases.\n",
    "\n",
    "8. Genre Preference Change Over Time: A metric showing how a user's favorite genre has evolved or changed over a certain period.\n",
    "\n",
    "9. How many movies has user wathced from the top 100 movies(ranked by number of clicks by unique users)\n",
    "\n",
    "10. Time Gaps Between Clicks: Average or maximum time gaps between consecutive clicks, showing if the user binge-watches or prefers spaced viewing sessions."
   ]
  },
  {
   "cell_type": "markdown",
   "metadata": {},
   "source": [
    "1. Genre Diversity (i.e., the number of different genres on which the user spent time)"
   ]
  },
  {
   "cell_type": "code",
   "execution_count": 217,
   "metadata": {},
   "outputs": [],
   "source": [
    "df['genres_list'] = df['genres'].apply(lambda x: x.split(', '))"
   ]
  },
  {
   "cell_type": "code",
   "execution_count": 219,
   "metadata": {},
   "outputs": [],
   "source": [
    "users['genre_diversity'] = df.groupby('user_id')['genres_list'].sum().apply(lambda x: len(list(set(x)))).values"
   ]
  },
  {
   "cell_type": "markdown",
   "metadata": {},
   "source": [
    "2. Weekday vs. Weekend Activity Ratio: Ratio of clicks or time spent on the platform during weekdays versus weekends, providing insight into their usage patterns."
   ]
  },
  {
   "cell_type": "code",
   "execution_count": 220,
   "metadata": {},
   "outputs": [],
   "source": [
    "df['weekday'] = df['datetime'].apply(lambda x: x.weekday()<5)\n"
   ]
  },
  {
   "cell_type": "code",
   "execution_count": 221,
   "metadata": {},
   "outputs": [],
   "source": [
    "users['weekday_ratio'] = df.groupby('user_id')['weekday'].mean().values"
   ]
  },
  {
   "cell_type": "markdown",
   "metadata": {},
   "source": [
    "3. Session Frequency: Average frequency of user sessions per day or per week, indicating how often they visit the platform.\n"
   ]
  },
  {
   "cell_type": "code",
   "execution_count": 222,
   "metadata": {},
   "outputs": [],
   "source": [
    "users['session_frequency_day'] = df.groupby('user_id')['datetime'].count().values / df.groupby('user_id')['date'].nunique().values \n",
    "\n"
   ]
  },
  {
   "cell_type": "markdown",
   "metadata": {},
   "source": [
    "4. Duration of Longest Click: The duration of the longest single click made by the user, highlighting their engagement with specific content.\n"
   ]
  },
  {
   "cell_type": "code",
   "execution_count": 223,
   "metadata": {},
   "outputs": [],
   "source": [
    "users['longest_click_duration'] = df.groupby('user_id')['duration'].max().values\n"
   ]
  },
  {
   "cell_type": "markdown",
   "metadata": {},
   "source": [
    "5-6. Clicks per Month/Year: The average number of clicks made by the user per month or per year, showing their long-term activity trend.\n"
   ]
  },
  {
   "cell_type": "code",
   "execution_count": 224,
   "metadata": {},
   "outputs": [],
   "source": [
    "users['clicks_per_year'] = df.groupby('user_id')['datetime'].nunique().values / (df['date'].max().year - df['date'].min().year)\n",
    "users['clicks_per_month'] = df.groupby('user_id')['datetime'].nunique().values / (df['date'].max().month - df['date'].min().month)\n"
   ]
  },
  {
   "cell_type": "markdown",
   "metadata": {},
   "source": [
    "7. Time Spent on Latest Release: Percentage of time spent on content released within the last month or quarter, indicating their interest in recent releases."
   ]
  },
  {
   "cell_type": "code",
   "execution_count": 225,
   "metadata": {},
   "outputs": [],
   "source": [
    "users['time_spent_on_latest_release'] = df.groupby('user_id')['release_date'].apply(lambda x: np.mean(x >= 2018)).values"
   ]
  },
  {
   "cell_type": "markdown",
   "metadata": {},
   "source": [
    "8. Genre Preference Change Over Time: A metric showing how a user's favorite genre has evolved or changed over a certain period."
   ]
  },
  {
   "cell_type": "code",
   "execution_count": 226,
   "metadata": {},
   "outputs": [],
   "source": [
    "users['genre_preference_change'] = df.groupby('user_id')['genres'].apply(lambda x: len(x) / len(set(x))).values\n"
   ]
  },
  {
   "cell_type": "markdown",
   "metadata": {},
   "source": [
    "9. How many movies has user watched from the top 100 movies(ranked by number of clicks by unique users). This can indicate the user's interest in popular content."
   ]
  },
  {
   "cell_type": "code",
   "execution_count": 227,
   "metadata": {},
   "outputs": [],
   "source": [
    "top_100 = df.groupby('movie_id')['user_id'].nunique().sort_values(ascending=False)[:100].index.values"
   ]
  },
  {
   "cell_type": "code",
   "execution_count": 228,
   "metadata": {},
   "outputs": [],
   "source": [
    "top_100_titles = df[df['movie_id'].isin(top_100)].groupby('movie_id')['title'].first().values"
   ]
  },
  {
   "cell_type": "code",
   "execution_count": 229,
   "metadata": {},
   "outputs": [],
   "source": [
    "users['top_100_movies_watched'] = df.groupby('user_id')['movie_id'].apply(lambda x: len(set(x).intersection(set(top_100)))).values"
   ]
  },
  {
   "cell_type": "markdown",
   "metadata": {},
   "source": [
    "10. Title Length: The character count or word count of the titles the user clicks on. This might indicate a preference for shorter or longer titles."
   ]
  },
  {
   "cell_type": "code",
   "execution_count": 230,
   "metadata": {},
   "outputs": [],
   "source": [
    "users['title_length'] = df.groupby('user_id')['title'].apply(lambda x: np.mean(x.str.len())).values"
   ]
  },
  {
   "cell_type": "markdown",
   "metadata": {},
   "source": [
    "## 2.2 Choose your features (variables)!"
   ]
  },
  {
   "cell_type": "markdown",
   "metadata": {},
   "source": [
    "We decided to normalize the numerical features and use LabelEncoder for the categorical features. As we are going further use KMeans clustering, I think Normalization is important part for our numerical features, as it will help to avoid the bias of the features with higher values. "
   ]
  },
  {
   "cell_type": "code",
   "execution_count": 232,
   "metadata": {},
   "outputs": [],
   "source": [
    "users_num = users.copy()"
   ]
  },
  {
   "cell_type": "code",
   "execution_count": 235,
   "metadata": {},
   "outputs": [],
   "source": [
    "from sklearn.preprocessing import LabelEncoder\n",
    "\n",
    "label_encoder_frg = LabelEncoder()\n",
    "label_encoder_tod = LabelEncoder()\n",
    "label_encoder_oml = LabelEncoder()\n",
    "users_num['favorite_genre'] = label_encoder_frg.fit_transform(users_num['favorite_genre'])\n",
    "users_num['time_of_day'] = label_encoder_tod.fit_transform(users_num['time_of_day'])\n",
    "users_num['old_movie_lover'] = label_encoder_oml.fit_transform(users_num['old_movie_lover'])\n",
    "\n"
   ]
  },
  {
   "cell_type": "code",
   "execution_count": 236,
   "metadata": {},
   "outputs": [
    {
     "name": "stdout",
     "output_type": "stream",
     "text": [
      "Time of day mapping:\n",
      "0: 0\n",
      "1: 1\n",
      "2: 2\n",
      "\n",
      "Old movie lover mapping:\n",
      "0: 0\n",
      "1: 1\n"
     ]
    }
   ],
   "source": [
    "#show mappings for categorical variables\n",
    "print('Time of day mapping:')\n",
    "for i, cat in enumerate(label_encoder_tod.classes_):\n",
    "    print(f'{i}: {cat}')\n",
    "print()\n",
    "print('Old movie lover mapping:')\n",
    "for i, cat in enumerate(label_encoder_oml.classes_):\n",
    "    print(f'{i}: {cat}')\n"
   ]
  },
  {
   "cell_type": "code",
   "execution_count": 264,
   "metadata": {},
   "outputs": [
    {
     "data": {
      "text/html": [
       "<div>\n",
       "<style scoped>\n",
       "    .dataframe tbody tr th:only-of-type {\n",
       "        vertical-align: middle;\n",
       "    }\n",
       "\n",
       "    .dataframe tbody tr th {\n",
       "        vertical-align: top;\n",
       "    }\n",
       "\n",
       "    .dataframe thead th {\n",
       "        text-align: right;\n",
       "    }\n",
       "</style>\n",
       "<table border=\"1\" class=\"dataframe\">\n",
       "  <thead>\n",
       "    <tr style=\"text-align: right;\">\n",
       "      <th></th>\n",
       "      <th>favorite_genre</th>\n",
       "      <th>avg_click_duration</th>\n",
       "      <th>time_of_day</th>\n",
       "      <th>old_movie_lover</th>\n",
       "      <th>avg_time_spent</th>\n",
       "      <th>genre_diversity</th>\n",
       "      <th>weekday_ratio</th>\n",
       "      <th>session_frequency_day</th>\n",
       "      <th>longest_click_duration</th>\n",
       "      <th>clicks_per_year</th>\n",
       "      <th>clicks_per_month</th>\n",
       "      <th>time_spent_on_latest_release</th>\n",
       "      <th>genre_preference_change</th>\n",
       "      <th>top_100_movies_watched</th>\n",
       "      <th>title_length</th>\n",
       "    </tr>\n",
       "  </thead>\n",
       "  <tbody>\n",
       "    <tr>\n",
       "      <th>count</th>\n",
       "      <td>150566.000000</td>\n",
       "      <td>1.505660e+05</td>\n",
       "      <td>150566.000000</td>\n",
       "      <td>150566.000000</td>\n",
       "      <td>1.505660e+05</td>\n",
       "      <td>150566.000000</td>\n",
       "      <td>150566.000000</td>\n",
       "      <td>150566.000000</td>\n",
       "      <td>1.505660e+05</td>\n",
       "      <td>150566.000000</td>\n",
       "      <td>150566.000000</td>\n",
       "      <td>150566.000000</td>\n",
       "      <td>150566.000000</td>\n",
       "      <td>150566.000000</td>\n",
       "      <td>150566.000000</td>\n",
       "    </tr>\n",
       "    <tr>\n",
       "      <th>mean</th>\n",
       "      <td>512.367088</td>\n",
       "      <td>4.691810e+04</td>\n",
       "      <td>1.397998</td>\n",
       "      <td>0.179396</td>\n",
       "      <td>6.028587e+04</td>\n",
       "      <td>5.361821</td>\n",
       "      <td>0.638132</td>\n",
       "      <td>1.522069</td>\n",
       "      <td>1.092973e+05</td>\n",
       "      <td>1.932963</td>\n",
       "      <td>0.773185</td>\n",
       "      <td>0.173966</td>\n",
       "      <td>1.400030</td>\n",
       "      <td>0.620319</td>\n",
       "      <td>16.552875</td>\n",
       "    </tr>\n",
       "    <tr>\n",
       "      <th>std</th>\n",
       "      <td>300.062812</td>\n",
       "      <td>1.724922e+05</td>\n",
       "      <td>0.865593</td>\n",
       "      <td>0.383685</td>\n",
       "      <td>2.024691e+05</td>\n",
       "      <td>3.275044</td>\n",
       "      <td>0.403313</td>\n",
       "      <td>0.905026</td>\n",
       "      <td>3.035514e+05</td>\n",
       "      <td>3.058470</td>\n",
       "      <td>1.223388</td>\n",
       "      <td>0.330623</td>\n",
       "      <td>0.788165</td>\n",
       "      <td>0.943373</td>\n",
       "      <td>8.112747</td>\n",
       "    </tr>\n",
       "    <tr>\n",
       "      <th>min</th>\n",
       "      <td>0.000000</td>\n",
       "      <td>0.000000e+00</td>\n",
       "      <td>0.000000</td>\n",
       "      <td>0.000000</td>\n",
       "      <td>0.000000e+00</td>\n",
       "      <td>1.000000</td>\n",
       "      <td>0.000000</td>\n",
       "      <td>1.000000</td>\n",
       "      <td>0.000000e+00</td>\n",
       "      <td>0.500000</td>\n",
       "      <td>0.200000</td>\n",
       "      <td>0.000000</td>\n",
       "      <td>1.000000</td>\n",
       "      <td>0.000000</td>\n",
       "      <td>1.000000</td>\n",
       "    </tr>\n",
       "    <tr>\n",
       "      <th>25%</th>\n",
       "      <td>208.000000</td>\n",
       "      <td>0.000000e+00</td>\n",
       "      <td>0.000000</td>\n",
       "      <td>0.000000</td>\n",
       "      <td>0.000000e+00</td>\n",
       "      <td>3.000000</td>\n",
       "      <td>0.285714</td>\n",
       "      <td>1.000000</td>\n",
       "      <td>0.000000e+00</td>\n",
       "      <td>0.500000</td>\n",
       "      <td>0.200000</td>\n",
       "      <td>0.000000</td>\n",
       "      <td>1.000000</td>\n",
       "      <td>0.000000</td>\n",
       "      <td>11.000000</td>\n",
       "    </tr>\n",
       "    <tr>\n",
       "      <th>50%</th>\n",
       "      <td>577.000000</td>\n",
       "      <td>3.487056e+03</td>\n",
       "      <td>2.000000</td>\n",
       "      <td>0.000000</td>\n",
       "      <td>5.407000e+03</td>\n",
       "      <td>5.000000</td>\n",
       "      <td>0.800000</td>\n",
       "      <td>1.000000</td>\n",
       "      <td>6.890500e+03</td>\n",
       "      <td>1.000000</td>\n",
       "      <td>0.400000</td>\n",
       "      <td>0.000000</td>\n",
       "      <td>1.000000</td>\n",
       "      <td>0.000000</td>\n",
       "      <td>15.000000</td>\n",
       "    </tr>\n",
       "    <tr>\n",
       "      <th>75%</th>\n",
       "      <td>728.000000</td>\n",
       "      <td>2.741138e+04</td>\n",
       "      <td>2.000000</td>\n",
       "      <td>0.000000</td>\n",
       "      <td>4.160250e+04</td>\n",
       "      <td>7.000000</td>\n",
       "      <td>1.000000</td>\n",
       "      <td>2.000000</td>\n",
       "      <td>8.549600e+04</td>\n",
       "      <td>2.000000</td>\n",
       "      <td>0.800000</td>\n",
       "      <td>0.176471</td>\n",
       "      <td>1.500000</td>\n",
       "      <td>1.000000</td>\n",
       "      <td>20.000000</td>\n",
       "    </tr>\n",
       "    <tr>\n",
       "      <th>max</th>\n",
       "      <td>1028.000000</td>\n",
       "      <td>1.147194e+07</td>\n",
       "      <td>2.000000</td>\n",
       "      <td>1.000000</td>\n",
       "      <td>1.400752e+07</td>\n",
       "      <td>22.000000</td>\n",
       "      <td>1.000000</td>\n",
       "      <td>28.000000</td>\n",
       "      <td>1.823725e+07</td>\n",
       "      <td>361.500000</td>\n",
       "      <td>144.600000</td>\n",
       "      <td>1.000000</td>\n",
       "      <td>48.000000</td>\n",
       "      <td>19.000000</td>\n",
       "      <td>88.000000</td>\n",
       "    </tr>\n",
       "  </tbody>\n",
       "</table>\n",
       "</div>"
      ],
      "text/plain": [
       "       favorite_genre  avg_click_duration    time_of_day  old_movie_lover  \\\n",
       "count   150566.000000        1.505660e+05  150566.000000    150566.000000   \n",
       "mean       512.367088        4.691810e+04       1.397998         0.179396   \n",
       "std        300.062812        1.724922e+05       0.865593         0.383685   \n",
       "min          0.000000        0.000000e+00       0.000000         0.000000   \n",
       "25%        208.000000        0.000000e+00       0.000000         0.000000   \n",
       "50%        577.000000        3.487056e+03       2.000000         0.000000   \n",
       "75%        728.000000        2.741138e+04       2.000000         0.000000   \n",
       "max       1028.000000        1.147194e+07       2.000000         1.000000   \n",
       "\n",
       "       avg_time_spent  genre_diversity  weekday_ratio  session_frequency_day  \\\n",
       "count    1.505660e+05    150566.000000  150566.000000          150566.000000   \n",
       "mean     6.028587e+04         5.361821       0.638132               1.522069   \n",
       "std      2.024691e+05         3.275044       0.403313               0.905026   \n",
       "min      0.000000e+00         1.000000       0.000000               1.000000   \n",
       "25%      0.000000e+00         3.000000       0.285714               1.000000   \n",
       "50%      5.407000e+03         5.000000       0.800000               1.000000   \n",
       "75%      4.160250e+04         7.000000       1.000000               2.000000   \n",
       "max      1.400752e+07        22.000000       1.000000              28.000000   \n",
       "\n",
       "       longest_click_duration  clicks_per_year  clicks_per_month  \\\n",
       "count            1.505660e+05    150566.000000     150566.000000   \n",
       "mean             1.092973e+05         1.932963          0.773185   \n",
       "std              3.035514e+05         3.058470          1.223388   \n",
       "min              0.000000e+00         0.500000          0.200000   \n",
       "25%              0.000000e+00         0.500000          0.200000   \n",
       "50%              6.890500e+03         1.000000          0.400000   \n",
       "75%              8.549600e+04         2.000000          0.800000   \n",
       "max              1.823725e+07       361.500000        144.600000   \n",
       "\n",
       "       time_spent_on_latest_release  genre_preference_change  \\\n",
       "count                 150566.000000            150566.000000   \n",
       "mean                       0.173966                 1.400030   \n",
       "std                        0.330623                 0.788165   \n",
       "min                        0.000000                 1.000000   \n",
       "25%                        0.000000                 1.000000   \n",
       "50%                        0.000000                 1.000000   \n",
       "75%                        0.176471                 1.500000   \n",
       "max                        1.000000                48.000000   \n",
       "\n",
       "       top_100_movies_watched   title_length  \n",
       "count           150566.000000  150566.000000  \n",
       "mean                 0.620319      16.552875  \n",
       "std                  0.943373       8.112747  \n",
       "min                  0.000000       1.000000  \n",
       "25%                  0.000000      11.000000  \n",
       "50%                  0.000000      15.000000  \n",
       "75%                  1.000000      20.000000  \n",
       "max                 19.000000      88.000000  "
      ]
     },
     "execution_count": 264,
     "metadata": {},
     "output_type": "execute_result"
    }
   ],
   "source": [
    "users_num.describe()"
   ]
  },
  {
   "cell_type": "code",
   "execution_count": 243,
   "metadata": {},
   "outputs": [
    {
     "data": {
      "text/plain": [
       "Index(['user_id', 'favorite_genre', 'avg_click_duration', 'time_of_day',\n",
       "       'old_movie_lover', 'avg_time_spent', 'genre_diversity', 'weekday_ratio',\n",
       "       'session_frequency_day', 'longest_click_duration', 'clicks_per_year',\n",
       "       'clicks_per_month', 'time_spent_on_latest_release',\n",
       "       'genre_preference_change', 'top_100_movies_watched', 'title_length'],\n",
       "      dtype='object')"
      ]
     },
     "execution_count": 243,
     "metadata": {},
     "output_type": "execute_result"
    }
   ],
   "source": [
    "users_num.columns\n"
   ]
  },
  {
   "cell_type": "markdown",
   "metadata": {},
   "source": [
    "I tried two different approaches for normalization techniques: MinMaxScaler and L2 Normalizaer. I think MinMaxScaler is better for our case, as PCA has better variance ratio with MinMaxScaler."
   ]
  },
  {
   "cell_type": "code",
   "execution_count": 285,
   "metadata": {},
   "outputs": [],
   "source": [
    "from sklearn.preprocessing import MinMaxScaler\n",
    "\n",
    "scaler = MinMaxScaler()\n",
    "X = users_num.drop('user_id', axis=1)\n",
    "X_categorical = X.iloc[:, [0, 2, 3]]\n",
    "X_numerical = X.iloc[:, [1, 4, 5, 6, 7, 8, 9, 10, 11, 12, 13, 14]]\n",
    "normalized_X = scaler.fit_transform(X_numerical.values)"
   ]
  },
  {
   "cell_type": "markdown",
   "metadata": {},
   "source": [
    "I will proceed by applying PCA on numerical variables and keeping the categorical variables intact. I decied to use PCA as it will help to reduce the dimensionality of the data by maximizing the variance of the data.\n",
    "\n",
    "As I have 3 categorical variables, I will decide to use PCA n_components=3, so total columns of resulted data will be 6.\n",
    "Although, PCA is linear method and it means it might not work well id the data structure is non-linear. Also the transformed features after PCA are less interpretable."
   ]
  },
  {
   "cell_type": "code",
   "execution_count": 281,
   "metadata": {},
   "outputs": [
    {
     "name": "stdout",
     "output_type": "stream",
     "text": [
      "Explained Variance Ratio: [5.25373332e-01 3.53248111e-01 8.12167134e-02 2.78968337e-02\n",
      " 5.51234384e-03 3.62174405e-03 2.07286653e-03 6.26512193e-04\n",
      " 2.32925119e-04 1.68428707e-04 3.01894970e-05 2.27391680e-33]\n",
      "Total Explained Variance Ratio: 0.9999999999999998\n"
     ]
    }
   ],
   "source": [
    "from sklearn.decomposition import PCA\n",
    "\n",
    "# Initialize PCA and fit_transform the normalized matrix\n",
    "pca = PCA()  # Set the number of components you want to retain\n",
    "pca.fit(normalized_X)\n",
    "\n",
    "# Displaying the explained variance ratio\n",
    "print(\"Explained Variance Ratio:\", pca.explained_variance_ratio_)\n",
    "print(\"Total Explained Variance Ratio:\", sum(pca.explained_variance_ratio_))\n",
    "explained_variance_ratio = pca.explained_variance_ratio_\n",
    "cumulative_variance_ratio = explained_variance_ratio.cumsum()"
   ]
  },
  {
   "cell_type": "code",
   "execution_count": 282,
   "metadata": {},
   "outputs": [
    {
     "data": {
      "image/png": "[encoded data removed]",
      "text/plain": [
       "<Figure size 1000x600 with 1 Axes>"
      ]
     },
     "metadata": {},
     "output_type": "display_data"
    }
   ],
   "source": [
    "#plotting the cumulative variance\n",
    "import matplotlib.pyplot as plt\n",
    "plt.figure(figsize=(10, 6))\n",
    "plt.plot(cumulative_variance_ratio, linewidth=2)\n",
    "plt.grid()\n",
    "plt.axis('tight')\n",
    "plt.xlabel('Number of Components')\n",
    "plt.ylabel('Cumulative Explained Variance')\n",
    "plt.show()\n"
   ]
  },
  {
   "cell_type": "markdown",
   "metadata": {},
   "source": [
    "Looking at plot, we can notice that 2-3 as the number of components describe the most of data variance, so I will use n_components=3 for PCA."
   ]
  },
  {
   "cell_type": "code",
   "execution_count": 283,
   "metadata": {},
   "outputs": [
    {
     "name": "stdout",
     "output_type": "stream",
     "text": [
      "Explained Variance Ratio: [0.52537333 0.35324811 0.08121671]\n",
      "Total Explained Variance Ratio: 0.9598381564044745\n"
     ]
    }
   ],
   "source": [
    "from sklearn.decomposition import PCA\n",
    "\n",
    "pca = PCA(n_components=3)\n",
    "X_pca = pca.fit_transform(normalized_X)\n",
    "\n",
    "print(\"Explained Variance Ratio:\", pca.explained_variance_ratio_)\n",
    "print(\"Total Explained Variance Ratio:\", sum(pca.explained_variance_ratio_))"
   ]
  },
  {
   "cell_type": "code",
   "execution_count": null,
   "metadata": {},
   "outputs": [],
   "source": [
    "X_pca = pd.DataFrame(X_pca, columns=['pca1', 'pca2', 'pca3'])\n",
    "result_df = pd.concat([X_categorical.reset_index(drop=True), X_pca], axis=1)"
   ]
  },
  {
   "cell_type": "code",
   "execution_count": 23,
   "metadata": {},
   "outputs": [],
   "source": [
    "result_df.to_csv('pca_result_df.csv', index=False)"
   ]
  },
  {
   "cell_type": "code",
   "execution_count": 2,
   "metadata": {},
   "outputs": [],
   "source": [
    "result_df = pd.read_csv('pca_result_df.csv')"
   ]
  },
  {
   "cell_type": "markdown",
   "metadata": {},
   "source": [
    "## 2.3 Clustering!\n"
   ]
  },
  {
   "cell_type": "markdown",
   "metadata": {},
   "source": [
    "### 2.3.1 Implement the K-means clustering algorithm (not ++: random initialization) using MapReduce. We ask you to write the algorithm from scratch following what you learned in class."
   ]
  },
  {
   "cell_type": "code",
   "execution_count": 3,
   "metadata": {},
   "outputs": [],
   "source": [
    "from sklearn.metrics import silhouette_score\n",
    "import matplotlib.pyplot as plt"
   ]
  },
  {
   "cell_type": "code",
   "execution_count": 25,
   "metadata": {},
   "outputs": [],
   "source": [
    "import numpy as np\n",
    "from pyspark.sql import SparkSession\n",
    "from pyspark import SparkContext\n",
    "\n",
    "data_points = [tuple(row) for row in np.round(result_df.values, 2)]\n",
    "\n",
    "spark_session = SparkSession.builder.master(\"local[1]\").appName('KMeansClustering').getOrCreate()\n",
    "spark_context = SparkContext.getOrCreate()\n",
    "data_rdd = spark_context.parallelize(data_points)"
   ]
  },
  {
   "cell_type": "markdown",
   "metadata": {},
   "source": [
    "### MapReduce for K-means clustering algorithm"
   ]
  },
  {
   "cell_type": "code",
   "execution_count": 43,
   "metadata": {},
   "outputs": [],
   "source": [
    "def assign_to_closest_centroid(point, centroids):\n",
    "    closest_centroid = tuple(centroids[np.argmin([np.sum((np.array(point)-np.array(centroid))**2) for centroid in centroids])])\n",
    "    return closest_centroid, point"
   ]
  },
  {
   "cell_type": "code",
   "execution_count": 44,
   "metadata": {},
   "outputs": [],
   "source": [
    "def compute_new_centroids(cluster):\n",
    "    new_centroid = np.mean(list(cluster), axis=0).tolist()\n",
    "    return new_centroid, list(cluster)"
   ]
  },
  {
   "cell_type": "code",
   "execution_count": 45,
   "metadata": {},
   "outputs": [],
   "source": [
    "def kmeans_mapreduce(data_rdd, num_clusters, max_iterations=10, tolerance=0.001):\n",
    "\n",
    "    # Initialize centroids by randomly selecting num_clusters points\n",
    "    centroids = np.array(data_rdd.takeSample(False, num_clusters, 1))\n",
    "    old_centroids = np.zeros(centroids.shape)\n",
    "\n",
    "    # Run MapReduce\n",
    "    for i in range(max_iterations):\n",
    "\n",
    "        # Map: assign each point to the closest centroid\n",
    "        mapped_data = data_rdd.map(lambda point: assign_to_closest_centroid(point, centroids))\n",
    "\n",
    "        # Reduce: compute new centroid for each cluster\n",
    "        reduced_data = mapped_data.groupByKey().mapValues(compute_new_centroids).values().collect()\n",
    "\n",
    "        old_centroids = centroids\n",
    "        centroids = np.array([tuple(cluster[0]) for cluster in reduced_data])\n",
    "        clusters = [list(cluster[1]) for cluster in reduced_data]\n",
    "\n",
    "        # Check the tolerance threshold\n",
    "        if np.sum((centroids - old_centroids)**2) < tolerance:\n",
    "            break\n",
    "\n",
    "    return centroids, clusters"
   ]
  },
  {
   "cell_type": "code",
   "execution_count": 46,
   "metadata": {},
   "outputs": [],
   "source": [
    "def inertia(points, centroids):\n",
    "    total_distance = 0\n",
    "\n",
    "    for point in points:\n",
    "        point_array = np.array(point)\n",
    "        distances = []\n",
    "\n",
    "        # Compute the distance to each centroid\n",
    "        for centroid in centroids:\n",
    "            centroid_array = np.array(centroid)\n",
    "            distance = np.sum((point_array - centroid_array) ** 2)\n",
    "            distances.append(distance)\n",
    "\n",
    "        min_distance = min(distances)\n",
    "        total_distance += min_distance\n",
    "\n",
    "    return total_distance"
   ]
  },
  {
   "cell_type": "code",
   "execution_count": 47,
   "metadata": {},
   "outputs": [],
   "source": [
    "def assign_points_to_clusters(clusters):\n",
    "    clust_id = {}\n",
    "    for i, cluster in enumerate(clusters):\n",
    "        for point in cluster:\n",
    "            clust_id[point] = i\n",
    "    return clust_id\n",
    "\n",
    "def kmeans(max_clusters, rdd,  data_points, max_iters):\n",
    "    inertia_lst = []\n",
    "    silhouette_lst = []\n",
    "    kmeans_results = {}\n",
    "\n",
    "    for k in range(1, max_clusters+1):\n",
    "        centroids, clusters = kmeans_mapreduce(rdd, k, max_iters)\n",
    "        print(f'k={k} done')\n",
    "\n",
    "        clust_index = assign_points_to_clusters(clusters)\n",
    "        res_inertia = inertia(data_points, centroids)\n",
    "        inertia_lst.append(res_inertia)\n",
    "        \n",
    "        if k == 0:\n",
    "            silhouette_lst.append(0)\n",
    "        else:\n",
    "            silhouette_lst.append(silhouette_score(data_points, [clust_index[point] for point in data_points]))\n",
    "\n",
    "        kmeans_results[k] = {\"centroids\": centroids, \"clusters\": [clust_index[point] for point in data_points]}\n",
    "\n",
    "    return inertia_lst, silhouette_lst, kmeans_results"
   ]
  },
  {
   "cell_type": "code",
   "execution_count": null,
   "metadata": {},
   "outputs": [],
   "source": [
    "inertia_values, silhouette_values, kmeans_results = kmeans(10, data_rdd, data_points, 10)"
   ]
  },
  {
   "cell_type": "markdown",
   "metadata": {},
   "source": [
    "### 2.3.2 Find an optimal number of clusters. Use at least two different methods. If your algorithms provide diverse optimal K's, select one of them and explain why you chose it."
   ]
  },
  {
   "cell_type": "code",
   "execution_count": 59,
   "metadata": {},
   "outputs": [
    {
     "data": {
      "image/png": "[encoded data removed]",
      "text/plain": [
       "<Figure size 1400x800 with 1 Axes>"
      ]
     },
     "metadata": {},
     "output_type": "display_data"
    }
   ],
   "source": [
    "plt.figure(figsize=(14, 8))\n",
    "plt.xticks(range(1, len(inertia_values) + 1))\n",
    "plt.ylabel(\"Inertia\", fontsize=15)\n",
    "plt.xlabel(\"K\", fontsize=15)\n",
    "plt.title(\"Inertia Analysis\", fontsize=20)\n",
    "plt.grid(True, which='both', color='0.65', linestyle='-')\n",
    "plt.plot(range(1, len(inertia_values) + 1), inertia_values, '--yo')\n",
    "plt.show()"
   ]
  },
  {
   "cell_type": "code",
   "execution_count": 58,
   "metadata": {},
   "outputs": [
    {
     "data": {
      "image/png": "[encoded data removed]",
      "text/plain": [
       "<Figure size 1400x800 with 1 Axes>"
      ]
     },
     "metadata": {},
     "output_type": "display_data"
    }
   ],
   "source": [
    "# Set figure size\n",
    "plt.figure(figsize=(14, 8))\n",
    "# Plot silhouette scores vs. number of clusters\n",
    "plt.xticks(range(1, len(silhouette_values) + 1))\n",
    "plt.ylabel(\"Silhouette Coefficient\", fontsize=15)\n",
    "plt.xlabel(\"K\", fontsize=15)\n",
    "plt.title(\"Silhouette analysis\", fontsize=20)\n",
    "plt.grid(True, which='both', color='0.65', linestyle='-')\n",
    "plt.plot([x for x in range(1, len(silhouette_values) + 1)], silhouette_values, 'o-', color='skyblue')\n",
    "plt.show()"
   ]
  },
  {
   "cell_type": "markdown",
   "metadata": {},
   "source": [
    "From these two metrics analysis, we can say that the optimal number of clusters is 2. However with our prior intuition that 2 clusters is small partition, we are more likely to choose 4 as number of clusters. In case of Silhouette Analysis, it shows that 2 is optimal choice for our k, but then score start to fluctuate and it is not stable. So, I will choose 4 as number of clusters."
   ]
  },
  {
   "cell_type": "markdown",
   "metadata": {},
   "source": [
    "### 2.3.3 Run the algorithm on the data obtained from the dimensionality reduction."
   ]
  },
  {
   "cell_type": "code",
   "execution_count": 71,
   "metadata": {},
   "outputs": [
    {
     "name": "stderr",
     "output_type": "stream",
     "text": [
      "23/12/17 16:19:15 WARN TaskSetManager: Stage 244 contains a task of very large size (17228 KiB). The maximum recommended task size is 1000 KiB.\n",
      "23/12/17 16:19:15 WARN TaskSetManager: Stage 245 contains a task of very large size (17228 KiB). The maximum recommended task size is 1000 KiB.\n",
      "23/12/17 16:19:15 WARN TaskSetManager: Stage 246 contains a task of very large size (17228 KiB). The maximum recommended task size is 1000 KiB.\n",
      "23/12/17 16:19:21 WARN TaskSetManager: Stage 248 contains a task of very large size (17228 KiB). The maximum recommended task size is 1000 KiB.\n",
      "23/12/17 16:19:26 WARN TaskSetManager: Stage 250 contains a task of very large size (17228 KiB). The maximum recommended task size is 1000 KiB.\n",
      "23/12/17 16:19:32 WARN TaskSetManager: Stage 252 contains a task of very large size (17228 KiB). The maximum recommended task size is 1000 KiB.\n",
      "23/12/17 16:19:37 WARN TaskSetManager: Stage 254 contains a task of very large size (17228 KiB). The maximum recommended task size is 1000 KiB.\n",
      "23/12/17 16:19:45 WARN TaskSetManager: Stage 256 contains a task of very large size (17228 KiB). The maximum recommended task size is 1000 KiB.\n",
      "23/12/17 16:19:50 WARN TaskSetManager: Stage 258 contains a task of very large size (17228 KiB). The maximum recommended task size is 1000 KiB.\n",
      "23/12/17 16:19:56 WARN TaskSetManager: Stage 260 contains a task of very large size (17228 KiB). The maximum recommended task size is 1000 KiB.\n",
      "23/12/17 16:20:03 WARN TaskSetManager: Stage 262 contains a task of very large size (17228 KiB). The maximum recommended task size is 1000 KiB.\n",
      "23/12/17 16:20:10 WARN TaskSetManager: Stage 264 contains a task of very large size (17228 KiB). The maximum recommended task size is 1000 KiB.\n",
      "                                                                                \r"
     ]
    }
   ],
   "source": [
    "kmeans4_centroids, kmeans_clusters = kmeans_mapreduce(data_rdd, 4)"
   ]
  },
  {
   "cell_type": "code",
   "execution_count": 72,
   "metadata": {},
   "outputs": [
    {
     "data": {
      "text/plain": [
       "array([[ 6.88004271e+02,  1.40008644e+00,  2.01022017e-01,\n",
       "        -3.30502873e-04,  2.78863070e-02, -3.00503381e-02],\n",
       "       [ 9.26010104e+02,  1.40414174e+00,  1.24932822e-01,\n",
       "         2.41446025e-03,  8.11973774e-02, -1.93357458e-02],\n",
       "       [ 5.15051341e+02,  1.39290067e+00,  2.38269348e-01,\n",
       "         1.61060329e-03, -2.19082876e-02,  7.55728215e-03],\n",
       "       [ 1.45209996e+02,  1.39628918e+00,  1.54392982e-01,\n",
       "        -7.79449912e-03, -5.23538148e-02,  2.90948694e-02]])"
      ]
     },
     "execution_count": 72,
     "metadata": {},
     "output_type": "execute_result"
    }
   ],
   "source": [
    "kmeans4_centroids"
   ]
  },
  {
   "cell_type": "code",
   "execution_count": 73,
   "metadata": {},
   "outputs": [
    {
     "data": {
      "text/plain": [
       "(4, 6)"
      ]
     },
     "execution_count": 73,
     "metadata": {},
     "output_type": "execute_result"
    }
   ],
   "source": [
    "kmeans4_centroids.shape"
   ]
  },
  {
   "cell_type": "markdown",
   "metadata": {},
   "source": [
    "### 2.3.4 Implement K-means++ from scratch and explain the differences with the results you got earlier."
   ]
  },
  {
   "cell_type": "code",
   "execution_count": 74,
   "metadata": {},
   "outputs": [],
   "source": [
    "def calculate_distances(data, centroids):\n",
    "    return np.array([min([np.linalg.norm(p - i) ** 2 for i in centroids]) for p in data.values])\n",
    "\n",
    "def choose_new_centroid(data, cuml_dist):\n",
    "    random_value = np.random.rand()\n",
    "    new_centroid_index = np.searchsorted(cuml_dist, random_value)\n",
    "    return data.iloc[new_centroid_index].values\n",
    "\n",
    "def kmeans_2plus(data, k):\n",
    "    centroids = [data.sample().values[0]]\n",
    "\n",
    "    for _ in range(1, k):\n",
    "        distances = calculate_distances(data, centroids)\n",
    "        prob_dist = distances / distances.sum()\n",
    "        cum_dist = np.cumsum(prob_dist)\n",
    "        new_centroid = choose_new_centroid(data, cum_dist)\n",
    "        centroids.append(new_centroid)\n",
    "\n",
    "    return np.array(centroids)\n",
    "\n",
    "kmeans2plus_centroids = kmeans_2plus(result_df, 4)"
   ]
  },
  {
   "cell_type": "code",
   "execution_count": 76,
   "metadata": {},
   "outputs": [
    {
     "data": {
      "text/plain": [
       "array([[ 5.42000000e+02,  0.00000000e+00,  0.00000000e+00,\n",
       "        -4.71739259e-02, -9.50657733e-02,  4.24421491e-01],\n",
       "       [ 8.94000000e+02,  2.00000000e+00,  0.00000000e+00,\n",
       "        -3.35407595e-01,  8.40837729e-01, -9.17590213e-02],\n",
       "       [ 1.40000000e+02,  2.00000000e+00,  0.00000000e+00,\n",
       "        -3.35536650e-01,  8.36572534e-01,  1.30301107e-02],\n",
       "       [ 6.30000000e+02,  2.00000000e+00,  0.00000000e+00,\n",
       "         6.63896456e-01,  8.12630675e-01, -8.60375411e-02]])"
      ]
     },
     "execution_count": 76,
     "metadata": {},
     "output_type": "execute_result"
    }
   ],
   "source": [
    "kmeans2plus_centroids"
   ]
  },
  {
   "cell_type": "code",
   "execution_count": 77,
   "metadata": {},
   "outputs": [
    {
     "data": {
      "text/plain": [
       "(4, 6)"
      ]
     },
     "execution_count": 77,
     "metadata": {},
     "output_type": "execute_result"
    }
   ],
   "source": [
    "kmeans2plus_centroids.shape"
   ]
  },
  {
   "cell_type": "markdown",
   "metadata": {},
   "source": [
    "Let's compare the results of K-means and K-means++:"
   ]
  },
  {
   "cell_type": "code",
   "execution_count": 78,
   "metadata": {},
   "outputs": [
    {
     "data": {
      "text/plain": [
       "398032.9187059767"
      ]
     },
     "execution_count": 78,
     "metadata": {},
     "output_type": "execute_result"
    }
   ],
   "source": [
    "#comparison the k-means and k-means++ centroids by taking euclidean distance\n",
    "euc_dist = np.sum((kmeans4_centroids - kmeans2plus_centroids)**2)\n",
    "euc_dist\n"
   ]
  },
  {
   "cell_type": "markdown",
   "metadata": {},
   "source": [
    "**KMean vs KMean++**\n",
    "\n",
    "We can see that euclidean difference between KMean and KMean++ centroids is 398032.9187059767, and it is quite big difference. It means that KMean++ centroids are just initialization, while KMmean centroids is algorithm with iterative nature and threshold tolereance check."
   ]
  },
  {
   "cell_type": "markdown",
   "metadata": {},
   "source": [
    "### 2.3.5 Ask ChatGPT to recommend other clustering algorithms and choose one. Explain your choice, then ask ChatGPT to implement it or use already implemented versions (e.g., the one provided in the scikit-learn library) and run it on your data. Explain the differences (if there are any) in the results. Which one is the best, in your opinion, and why?"
   ]
  },
  {
   "cell_type": "markdown",
   "metadata": {},
   "source": [
    "We asked ChatGPT which clustering should we use and choose Spectral Clustering.\n",
    "It uses the eigenvalues of a similarity matrix to reduce the dimensionality of the data before clustering in fewer dimensions. Spectral clustering can capture complex cluster structures and is effective for datasets with non-linear boundaries.\n"
   ]
  },
  {
   "cell_type": "markdown",
   "metadata": {},
   "source": [
    "# CLQ"
   ]
  },
  {
   "cell_type": "markdown",
   "metadata": {},
   "source": [
    "### What is the most-watched Netflix title?\n",
    "\n",
    "![clq_1](CLQ-task_1.jpg)"
   ]
  },
  {
   "cell_type": "markdown",
   "metadata": {},
   "source": [
    "### Report the average time between subsequent clicks on Netflix.com\n",
    "\n",
    "![clq_1](CLQ-task_2.jpg)"
   ]
  },
  {
   "cell_type": "markdown",
   "metadata": {},
   "source": [
    "### Provide the ID of the user that has spent the most time on Netflix\n",
    "\n",
    "![clq_1](CLQ-task_3.jpg)"
   ]
  },
  {
   "cell_type": "markdown",
   "metadata": {},
   "source": [
    "## 5. Algorithmic Question \n"
   ]
  },
  {
   "cell_type": "markdown",
   "metadata": {},
   "source": [
    "**Brute Force Solution**\n",
    "\n",
    "The main difficulty of this problem is find out the optimal exam order. One possible solution could be taking all possible permutations for the exam marks array, and make calculations of final score for each permutation, and return the maximum possible score. However, the time complexity of computing a permutations for an array of $N$ elements is $ O(N!) $. The computation of the final score could have a time complexity of $ O(N^2) $, which suggest that the overall complexity of the algorithm will be $ O(N!\\times N^2) $.\n",
    "\n",
    "-------------------------------------------------------------------------"
   ]
  },
  {
   "cell_type": "markdown",
   "metadata": {},
   "source": [
    "**Find a pattern**\n",
    "\n",
    "We need to find the pattern in the behavior of the final score. \n",
    "\n",
    "For \"easy\" exam the operation will be:\n",
    "$$ mark\\_list_{easy} + S - p $$\n",
    "\n",
    "For \"hard\" exam the operation will be:\n",
    "$$ mark\\_list_{hard} - (p - S) = exam_{easy} + S - p $$\n",
    "\n",
    "Therefore, the operation for both cases is the same.\n",
    "\n",
    "Let's now compute the final score for an array of odd/even number of elements.\n",
    "\n",
    "-------------------------------------------------------------------------\n",
    "**ODD NUMBER OF MARKS**\n",
    "\n",
    "\n",
    "***For 3 marks***\n",
    "\n",
    "***\n",
    "\n",
    "\n",
    "$$ score = S $$\n",
    "\n",
    "$$ mark\\_list = p_1, p_2, p_3 $$\n",
    "\n",
    "***\n",
    "\n",
    "$$ score = p_1 $$\n",
    "$$ mark\\_list = p_2 + S - p_1, p_3 + S - p_1 $$ \n",
    "\n",
    "***\n",
    "$$ score = p_2 + S - p_1 $$ \n",
    "$$ mark\\_list = p_3 - p_2 + p_1 $$\n",
    "\n",
    "***\n",
    "$$ final\\_score = p_3 - p_2 + p_1  $$\n",
    "***\n",
    "\n",
    "***For 5 marks***\n",
    "\n",
    "$$ score = S $$\n",
    "$$ mark\\_list = p_1, p_2, p_3, p_4, p_5$$\n",
    "***\n",
    "$$ score = p_1 $$\n",
    "$$ mark\\_list = p_2 + S - p_1, p_3 + S - p_1,  p_4 + S - p_1,  p_5 + S - p_1 $$ \n",
    "***\n",
    "$$ score = p_2 + S - p_1 $$ \n",
    "$$ mark\\_list = p_3 - p_2 + p_1, p_4 - p_2 + p_1,  p_5 - p_2 + p_1  $$\n",
    "***\n",
    "$$ score = p_3 - p_2 + p_1  $$\n",
    "$$ mark\\_list = p_4 + p_2 - p_1 - p_3 + S,  p_5 + p_2 - p_1 - p_3 + S  $$\n",
    "***\n",
    "$$ score = p_4 + p_2 - p_1 - p_3 + S  $$\n",
    "$$ mark\\_list = p_5 + p_3 + p_1 - p_2 - p_4  $$\n",
    "***\n",
    "$$ final\\_score = p_5 + p_3 + p_1 - p_2 - p_4  $$\n",
    "\n",
    "Here we can clearly see the pattern of the $final\\_score$ for 3 and 5 marks. \n",
    "\n",
    "******\n",
    "\n",
    "**EVEN NUMBER OF MARKS**\n",
    "\n",
    "\n",
    "***For 4 marks***\n",
    "$$ score = S $$\n",
    "$$ mark\\_list = p_1, p_2, p_3, p_4$$\n",
    "***\n",
    "$$ score = p_1 $$\n",
    "$$ mark\\_list = p_2 + S - p_1, p_3 + S - p_1,  p_4 + S - p_1$$ \n",
    "***\n",
    "$$ score = p_2 + S - p_1 $$ \n",
    "$$ mark\\_list = p_3 - p_2 + p_1, p_4 - p_2 + p_1 $$\n",
    "***\n",
    "$$ score = p_3 - p_2 + p_1  $$\n",
    "$$ mark\\_list = p_4 + p_2 - p_1 - p_3 + S $$\n",
    "***\n",
    "$$ final\\_score = p_4 + p_2 - p_1 - p_3 + S $$\n",
    "******\n",
    "\n",
    "***For 6 marks***\n",
    "\n",
    "$$ score = S $$\n",
    "$$ mark\\_list = p_1, p_2, p_3, p_4, p_5, p_6$$\n",
    "***\n",
    "$$ score = p_1 $$\n",
    "$$ mark\\_list = p_2 + S - p_1, p_3 + S - p_1,  p_4 + S - p_1,  p_5 + S - p_1, p_6 + S - p_1 $$ \n",
    "***\n",
    "$$ score = p_2 + S - p_1 $$ \n",
    "$$ mark\\_list = p_3 - p_2 + p_1, p_4 - p_2 + p_1,  p_5 - p_2 + p_1, p_6 - p_2 + p_1 $$\n",
    "***\n",
    "$$ score = p_3 - p_2 + p_1  $$\n",
    "$$ mark\\_list = p_4 + p_2 - p_1 - p_3 + S,  p_5 + p_2 - p_1 - p_3 + S, p_6 + p_2 - p_1 - p_3 + S $$\n",
    "***\n",
    "$$ score = p_4 + p_2 - p_1 - p_3 + S  $$\n",
    "$$ mark\\_list = p_5 + p_3 + p_1 - p_2 - p_4, p_6 + p_3 + p_1 - p_2 - p_4   $$\n",
    "***\n",
    "$$ score = p_5 + p_3 + p_1 - p_2 - p_4  $$\n",
    "$$ mark\\_list = p_6 + p_4 + p_2 - p_5 - p_3 - p_1 + S $$\n",
    "\n",
    "******\n",
    "\n",
    "### Hypothesis \n",
    "\n",
    "**For odd number of marks $ N = 2k + 1$,\n",
    "then $final\\_score$ is:**\n",
    "$$ \\sum \\limits _{i=1} ^{\\frac{N+1}{2}} p_{2i-1} - \\sum \\limits _{i=1} ^{\\frac{N-1}{2}} p_{2i} $$\n",
    "\n",
    "\n",
    "**For even number of marks $ N = 2k$,\n",
    "then $final\\_score$ is:**\n",
    "$$ \\sum \\limits _{i=1} ^{\\frac{N}{2}} p_{2i} - \\sum \\limits _{i=1} ^{\\frac{N}{2}} p_{2i - 1} + S $$\n",
    "\n",
    "******\n",
    "\n",
    "**Proof Hypothesis by Induction**\n",
    "\n",
    "-------------------------------------------------------------------------\n",
    "1) Assume that the $final\\_score$ is true for each element from 1 to 2k+1\n",
    "-------------------------------------------------------------------------\n",
    "2) Now we have to prove that the hypothesis helds for 2k+2 and 2k+3:\n",
    "    \n",
    "    *At step 2k we have:*\n",
    "    \n",
    "    $$ score =  \\sum \\limits _{i=1} ^{k} p_{2i-1} - \\sum \\limits _{i=1} ^{k-1} p_{2i} $$\n",
    "    $$ mark\\_list = p_{2k} + \\sum \\limits _{i=1} ^{k-1} p_{2i} - \\sum \\limits _{i=1} ^{k} p_{2i - 1} + S; p_{2k + 1} + \\sum \\limits _{i=1} ^{k-1} p_{2i} - \\sum \\limits _{i=1} ^{k} p_{2i - 1} + S;\n",
    "    p_{2k+2} + \\sum \\limits _{i=1} ^{k-1} p_{2i} - \\sum \\limits _{i=1} ^{k} p_{2i - 1} + S;\n",
    "    p_{2k + 3} + \\sum \\limits _{i=1} ^{k-1} p_{2i} - \\sum \\limits _{i=1} ^{k} p_{2i - 1} + S; \\dots$$\n",
    "    ***\n",
    "    \n",
    "    *At 2k+1:*\n",
    "\n",
    "    $$ score = \\sum \\limits _{i=1} ^{k} p_{2i} - \\sum \\limits _{i=1} ^{k} p_{2i - 1} + S $$\n",
    "    \n",
    "    $$ update = prev\\_score -current\\_score = \\sum \\limits _{i=1} ^{k} p_{2i-1} - \\sum \\limits _{i=1} ^{k-1} p_{2i} - \\sum \\limits _{i=1} ^{k} p_{2i} + \\sum \\limits _{i=1} ^{k} p_{2i - 1} - S =  2 \\sum \\limits _{i=1} ^{k} p_{2i-1} - 2 \\sum \\limits _{i=1} ^{k-1} p_{2i} - p_{2k} - S $$\n",
    "    \n",
    "    Adding the update to the marks we get: \n",
    "    \n",
    "    $$ mark\\_list = \\sum \\limits _{i=1} ^{k+1} p_{2i-1} - \\sum \\limits _{i=1} ^{k} p_{2i}; p_{2k+2} + \\sum \\limits _{i=1} ^{k} p_{2i-1} - \\sum \\limits _{i=1} ^{k} p_{2i}; p_{2k+3} + \\sum \\limits _{i=1} ^{k} p_{2i-1} - \\sum \\limits _{i=1} ^{k-1} p_{2i} ; \\dots $$\n",
    "    ***\n",
    "    \n",
    "    *At 2k+2:*\n",
    "    $$ score= \\sum \\limits _{i=1} ^{k+1} p_{2i-1} - \\sum \\limits _{i=1} ^{k} p_{2i} $$\n",
    "    \n",
    "    $$ update = prev\\_score -current\\_score  = \\sum \\limits _{i=1} ^{k} p_{2i} - \\sum \\limits _{i=1} ^{k} p_{2i - 1} + S -  \\sum \\limits _{i=1} ^{k+1} p_{2i-1} + \\sum \\limits _{i=1} ^{k} p_{2i} $$  \n",
    "    \n",
    "    $$= 2 \\sum \\limits _{i=1} ^{k} p_{2i} - 2 \\sum \\limits _{i=1} ^{k} p_{2i - 1} - p_{2k+1} + S$$\n",
    "    \n",
    "    Adding the update to the marks we get: \n",
    "    \n",
    "    $$ mark\\_list =  p_{2k+2} - p_{2k+1} + S - \\sum \\limits _{i=1} ^{k} p_{2i - 1} + \\sum \\limits _{i=1} ^{k} p_{2i}; p_{2k+3} - p_{2k+1} + S - \\sum \\limits _{i=1} ^{k} p_{2i - 1} + \\sum \\limits _{i=1} ^{k} p_{2i}; \\dots$$\n",
    "    ***\n",
    "\n",
    "     *At 2k+3:*\n",
    "     \n",
    "     $$ score = \\sum \\limits _{i=1} ^{k+1} p_{2i} - \\sum \\limits _{i=1} ^{k+1} p_{2i - 1} + S $$\n",
    "     \n",
    "     $$ update = prev\\_score -current\\_score  = \\sum \\limits _{i=1} ^{k+1} p_{2i-1} - \\sum \\limits _{i=1} ^{k} p_{2i} - \\sum \\limits _{i=1} ^{k+1} + \\sum \\limits _{i=1} ^{k+1} p_{2i - 1} - S = 2 \\sum \\limits _{i=1} ^{k+1} p_{2i-1} - 2 \\sum \\limits _{i=1} ^{k} p_{2i} - p_{2k+2} - S $$\n",
    "     \n",
    "     $$ mark\\_list = \\sum \\limits _{i=1} ^{k+2} p_{2i-1} - \\sum \\limits _{i=1} ^{k+1} p_{2i}; \\dots $$\n",
    "     ***\n",
    "     \n",
    "     As can be seen the final score for the N = 2k+3: \n",
    "     $$ \\sum \\limits _{i=1} ^{k+2} p_{2i-1} - \\sum \\limits _{i=1} ^{k+1} p_{2i}  = \\sum \\limits _{i=1} ^{\\frac{N+1}{2}} p_{2i-1} - \\sum \\limits _{i=1} ^{\\frac{N-1}{2}} p_{2i}$$\n",
    "     \n",
    "     And for N = 2k+2, the final score is: \n",
    "     \n",
    "     $$\\sum \\limits _{i=1} ^{k+1} p_{2i} - \\sum \\limits _{i=1} ^{k+1} p_{2i - 1} + S = \\sum \\limits _{i=1} ^{\\frac{N}{2}} p_{2i} - \\sum \\limits _{i=1} ^{\\frac{N}{2}} p_{2i - 1} + S$$\n",
    "     \n",
    "     \n",
    "    <h3 style=\"text-align: center;\" markdown=\"1\">Q.E.D</h3> \n",
    "     \n",
    "     ***"
   ]
  },
  {
   "cell_type": "markdown",
   "metadata": {},
   "source": [
    "Therefore, To get the maximum score **for odd number** of marks we have to place the maximum marks at the even indices (since in Python lists' indices starts with 0) and other marks should be placed in the odd indices. \n",
    "\n",
    "To get the maximum score **for even number** of marks we have to place the maximum marks at the odd indices (since in Python lists' indices starts with 0) and other marks should be placed in the even indices. \n",
    "\n",
    "\n"
   ]
  },
  {
   "cell_type": "markdown",
   "metadata": {},
   "source": [
    "***\n",
    "*a) There are 2 functions in the solution: optimal_exam_order() takes the mark_list and reorders it to get the maximum final score, computer_app() takes the score and the mark_list and applies the instructions of the university's evalution system.*"
   ]
  },
  {
   "cell_type": "code",
   "execution_count": null,
   "metadata": {},
   "outputs": [],
   "source": [
    "def optimal_exam_order(exam_mark_list):\n",
    "    # Define N as number of exams\n",
    "    N = len(exam_mark_list)\n",
    "    \n",
    "    # Sort the mark_list in reverse order\n",
    "    # with complexity O(nlogn)\n",
    "    # slightly more efficient than sorted()\n",
    "    exam_mark_list.sort(reverse=True)\n",
    "    \n",
    "    # Define the max elements from the mark_list as max_marks\n",
    "    # and other elements as other_marks\n",
    "    if N % 2 == 1:\n",
    "        \n",
    "        # If N is odd then first (N+1)/2 elements are marked\n",
    "        # as max_marks\n",
    "        max_marks = exam_mark_list[:(N+1)//2]\n",
    "        other_marks = exam_mark_list[(N+1)//2:]    \n",
    "    else:\n",
    "        # If N is even then first N/2 elements are marked\n",
    "        # as max_marks\n",
    "        max_marks = exam_mark_list[:N//2]\n",
    "        other_marks = exam_mark_list[N//2:]\n",
    "        \n",
    "    # Computing the optimal order of the exam marks \n",
    "    optimal_mark_list = []\n",
    "\n",
    "    # If N is odd then max elements should be located\n",
    "    # at the even indices, and fill other elements \n",
    "    # at the odd indices\n",
    "    # (not consistent with the notes since in Python indexing starts with 0)\n",
    "    if N % 2 == 1:\n",
    "        while max_marks or other_marks:\n",
    "            optimal_mark_list.append(max_marks.pop())\n",
    "            if other_marks:\n",
    "                optimal_mark_list.append(other_marks.pop())\n",
    "    # If N is even then max elements should be located\n",
    "    # at the odd indices, and fill other elements \n",
    "    # at the even indices\n",
    "    else:\n",
    "        while max_marks or other_marks:\n",
    "            optimal_mark_list.append(other_marks.pop())        \n",
    "            optimal_mark_list.append(max_marks.pop())\n",
    "            \n",
    "    return optimal_mark_list"
   ]
  },
  {
   "cell_type": "code",
   "execution_count": null,
   "metadata": {},
   "outputs": [],
   "source": [
    "####O(N**2)\n",
    "\n",
    "def computer_app(score, exam_mark_list):\n",
    "    # Define N as number of exams\n",
    "    N = len(exam_mark_list)\n",
    "    \n",
    "    for i in range(N):\n",
    "        if score < exam_mark_list[i]:\n",
    "            update = score - exam_mark_list[i]\n",
    "            score = exam_mark_list[i]\n",
    "            exam_mark_list = [x + update for x in exam_mark_list]\n",
    "            \n",
    "        elif score > exam_mark_list[i]: \n",
    "            update = exam_mark_list[i] - score\n",
    "            score = exam_mark_list[i]\n",
    "            exam_mark_list = [x - update for x in exam_mark_list]\n",
    "\n",
    "    return score         "
   ]
  },
  {
   "cell_type": "code",
   "execution_count": null,
   "metadata": {},
   "outputs": [
    {
     "name": "stdout",
     "output_type": "stream",
     "text": [
      "11\n",
      "44\n",
      "205\n"
     ]
    }
   ],
   "source": [
    "#I/O 1\n",
    "S = 8\n",
    "mark_list = [5, 7, 1]\n",
    "print(computer_app(S, optimal_exam_order(mark_list)))\n",
    "\n",
    "\n",
    "#I/O 2\n",
    "S = 25\n",
    "mark_list = [18, 24, 21, 32, 27]\n",
    "print(computer_app(S, optimal_exam_order(mark_list)))\n",
    "\n",
    "#I/O 3\n",
    "S = 30\n",
    "mark_list = [13, 27, 41, 59, 28, 33, 39, 19, 52, 48, 55, 79]\n",
    "print(computer_app(S, optimal_exam_order(mark_list)))"
   ]
  },
  {
   "cell_type": "markdown",
   "metadata": {},
   "source": [
    "*b) The time complexity of the optimal_exam_order() is $O(N log N)$, since sorting takes $O(N log N)$, list index slicing and while loops are in order of $O(N)$.*\n",
    "\n",
    "*The time complexity of the computer_app() is $O(N^2)$, since we go through each element of the list and update the mark list in each iteration.*\n",
    "\n",
    "*Therefore, the overall time complexity of the algorithm is $O(N^2)$.*\n"
   ]
  },
  {
   "cell_type": "markdown",
   "metadata": {},
   "source": [
    "***\n",
    "*c) We can optimize the computer_app() by applying our perviously retriven equation (below).*\n",
    "\n",
    "**Final Score Equation** \n",
    "\n",
    "**For odd number of marks $ N = 2k + 1$,\n",
    "then $final\\_score$ is:**\n",
    "$$ \\sum \\limits _{i=1} ^{\\frac{N+1}{2}} p_{2i-1} - \\sum \\limits _{i=1} ^{\\frac{N-1}{2}} p_{2i} $$\n",
    "\n",
    "\n",
    "**For even number of marks $ N = 2k$,\n",
    "then $final\\_score$ is:**\n",
    "$$ \\sum \\limits _{i=1} ^{\\frac{N}{2}} p_{2i} - \\sum \\limits _{i=1} ^{\\frac{N}{2}} p_{2i - 1} + S $$\n",
    "\n",
    "******"
   ]
  },
  {
   "cell_type": "code",
   "execution_count": null,
   "metadata": {},
   "outputs": [],
   "source": [
    "def optimal_exam_order(exam_mark_list):\n",
    "    # Define N as number of exams\n",
    "    N = len(exam_mark_list)\n",
    "    \n",
    "    # Sort the mark_list in reverse order\n",
    "    # with complexity O(nlogn)\n",
    "    exam_mark_list.sort(reverse=True)\n",
    "    \n",
    "    # Define the max elements from the mark_list as max_marks\n",
    "    # and other elements as other_marks\n",
    "    if N % 2 == 1:\n",
    "        \n",
    "        # If N is odd then first (N+1)/2 elements are marked\n",
    "        # as max_marks\n",
    "        max_marks = exam_mark_list[:(N+1)//2]\n",
    "        other_marks = exam_mark_list[(N+1)//2:]    \n",
    "    else:\n",
    "        # If N is even then first N/2 elements are marked\n",
    "        # as max_marks\n",
    "        max_marks = exam_mark_list[:N//2]\n",
    "        other_marks = exam_mark_list[N//2:]\n",
    "        \n",
    "    # Computing the optimal order of the exam marks \n",
    "    optimal_mark_list = []\n",
    "\n",
    "    # If N is odd then max elements should be located\n",
    "    # at the even indices, and fill other elements \n",
    "    # at the odd indices\n",
    "    # (not consistent with the notes since in Python indexing starts with 0)\n",
    "    if N % 2 == 1:\n",
    "        while max_marks or other_marks:\n",
    "            optimal_mark_list.append(max_marks.pop())\n",
    "            if other_marks:\n",
    "                optimal_mark_list.append(other_marks.pop())\n",
    "    # If N is even then max elements should be located\n",
    "    # at the odd indices, and fill other elements \n",
    "    # at the even indices\n",
    "    else:\n",
    "        while max_marks or other_marks:\n",
    "            optimal_mark_list.append(other_marks.pop())        \n",
    "            optimal_mark_list.append(max_marks.pop())\n",
    "            \n",
    "    return optimal_mark_list"
   ]
  },
  {
   "cell_type": "code",
   "execution_count": null,
   "metadata": {},
   "outputs": [],
   "source": [
    "####O(N)\n",
    "\n",
    "def computer_app_optimized(score, exam_mark_list):\n",
    "    # Define N as number of exams\n",
    "    N = len(exam_mark_list)\n",
    "    \n",
    "    if N % 2 == 1:\n",
    "        # When N is odd, sum the marks at odd and even indices and find the difference\n",
    "        return sum(exam_mark_list[::2]) - sum(exam_mark_list[1::2])\n",
    "    else:\n",
    "        # When N is even, calculate the difference similarly but add the score\n",
    "        return sum(exam_mark_list[1::2]) - sum(exam_mark_list[::2]) + score"
   ]
  },
  {
   "cell_type": "code",
   "execution_count": null,
   "metadata": {},
   "outputs": [
    {
     "name": "stdout",
     "output_type": "stream",
     "text": [
      "11\n",
      "44\n",
      "205\n"
     ]
    }
   ],
   "source": [
    "#I/O 1\n",
    "S = 8\n",
    "mark_list = [5, 7, 1]\n",
    "print(computer_app_optimized(S, optimal_exam_order(mark_list)))\n",
    "\n",
    "\n",
    "#I/O 2\n",
    "S = 25\n",
    "mark_list = [18, 24, 21, 32, 27]\n",
    "print(computer_app_optimized(S, optimal_exam_order(mark_list)))\n",
    "\n",
    "#I/O 3\n",
    "S = 30\n",
    "mark_list = [13, 27, 41, 59, 28, 33, 39, 19, 52, 48, 55, 79]\n",
    "print(computer_app_optimized(S, optimal_exam_order(mark_list)))\n"
   ]
  },
  {
   "cell_type": "markdown",
   "metadata": {},
   "source": [
    "*c) (continued) The time complexity of computer_app_optimized() is $O(N)$ because it uses sclicing and sum function that have time complexity of $O(N)$.*\n",
    "\n",
    "*Therefore, the overall time complexity of the algorithm is $O(N log N)$.* \n",
    "\n",
    "*We can further improve the time complexity if the task does not ask the optimal exam order but only the optimal final score. Then we can use optimal_exam_order_optimized(), the time complexity is still $O(N log N)$ but the coefficient behind the scenes are reduced which could be beneficial for a larger input list*"
   ]
  },
  {
   "cell_type": "code",
   "execution_count": null,
   "metadata": {},
   "outputs": [],
   "source": [
    "def optimal_exam_order_optimized(score, exam_mark_list):\n",
    "    # Define N as number of exams\n",
    "    N = len(exam_mark_list)\n",
    "    \n",
    "    # Sort the mark_list in reverse order\n",
    "    # with complexity O(nlogn)\n",
    "    mark_list.sort(reverse=True)\n",
    "    \n",
    "    # Define the max elements from the mark_list as max_marks\n",
    "    # and other elements as other_marks\n",
    "    if N % 2 == 1:\n",
    "        \n",
    "        # If N is odd then first (N+1)/2 elements are marked\n",
    "        # as max_marks\n",
    "        max_marks = exam_mark_list[:(N+1)//2]\n",
    "        other_marks = exam_mark_list[(N+1)//2:] \n",
    "        \n",
    "        return sum(max_marks) - sum(other_marks)\n",
    "    \n",
    "    # If N is even then first N/2 elements are marked\n",
    "    # as max_marks\n",
    "    max_marks = exam_mark_list[:N//2]\n",
    "    other_marks = exam_mark_list[N//2:]\n",
    "    return sum(max_marks) - sum(other_marks) + score"
   ]
  },
  {
   "cell_type": "code",
   "execution_count": null,
   "metadata": {},
   "outputs": [
    {
     "name": "stdout",
     "output_type": "stream",
     "text": [
      "11\n",
      "44\n",
      "205\n"
     ]
    }
   ],
   "source": [
    "#I/O 1\n",
    "S = 8\n",
    "mark_list = [5, 7, 1]\n",
    "print(optimal_exam_order_optimized(S, mark_list))\n",
    "\n",
    "\n",
    "#I/O 2\n",
    "S = 25\n",
    "mark_list = [18, 24, 21, 32, 27]\n",
    "print(optimal_exam_order_optimized(S, mark_list))\n",
    "\n",
    "#I/O 3\n",
    "S = 30\n",
    "mark_list = [13, 27, 41, 59, 28, 33, 39, 19, 52, 48, 55, 79]\n",
    "print(optimal_exam_order_optimized(S, mark_list))"
   ]
  },
  {
   "cell_type": "markdown",
   "metadata": {},
   "source": [
    "*d) When asking the chatGPT to optimize the time complexity of the optimal_exam_order() function. It says that the main problem is sorting that takes $O(N long N)$ and it says that it has avoided it and now the time complexity is $O(N)$. The realization of the chatGPT's code is provided below. As we can see there is still sorting function and it seems that it just changes the order of the initial code, it first creates max_marks and then sorts it. This make no sense. The results of I/O are not correct.*\n"
   ]
  },
  {
   "cell_type": "code",
   "execution_count": null,
   "metadata": {},
   "outputs": [],
   "source": [
    "def optimal_exam_order_GPT(exam_mark_list):\n",
    "    # Define N as number of exams\n",
    "    N = len(exam_mark_list)\n",
    "    \n",
    "    # Split the list into max_marks and other_marks\n",
    "    max_marks = []\n",
    "    other_marks = []\n",
    "    for i in range(N):\n",
    "        if i % 2 == 0:\n",
    "            max_marks.append(exam_mark_list[i])\n",
    "        else:\n",
    "            other_marks.append(exam_mark_list[i])\n",
    "\n",
    "    # Sort both max_marks and other_marks in descending order\n",
    "    max_marks.sort(reverse=True)\n",
    "    other_marks.sort(reverse=True)\n",
    "    \n",
    "    # Computing the optimal order of the exam marks\n",
    "    optimal_mark_list = []\n",
    "    for i in range(N):\n",
    "        if i % 2 == 0:\n",
    "            optimal_mark_list.append(max_marks.pop(0))\n",
    "        else:\n",
    "            optimal_mark_list.append(other_marks.pop(0))\n",
    "    \n",
    "    return optimal_mark_list\n"
   ]
  },
  {
   "cell_type": "code",
   "execution_count": null,
   "metadata": {},
   "outputs": [],
   "source": [
    "####O(N)\n",
    "\n",
    "def computer_app_optimized(score, exam_mark_list):\n",
    "    # Define N as number of exams\n",
    "    N = len(exam_mark_list)\n",
    "    \n",
    "    if N % 2 == 1:\n",
    "        # When N is odd, sum the marks at odd and even indices and find the difference\n",
    "        return sum(exam_mark_list[::2]) - sum(exam_mark_list[1::2])\n",
    "    else:\n",
    "        # When N is even, calculate the difference similarly but add the score\n",
    "        return sum(exam_mark_list[1::2]) - sum(exam_mark_list[::2]) + score"
   ]
  },
  {
   "cell_type": "code",
   "execution_count": null,
   "metadata": {},
   "outputs": [
    {
     "name": "stdout",
     "output_type": "stream",
     "text": [
      "-1\n",
      "10\n",
      "67\n"
     ]
    }
   ],
   "source": [
    "#I/O 1\n",
    "S = 8\n",
    "mark_list = [5, 7, 1]\n",
    "print(computer_app_optimized(S, optimal_exam_order_GPT(mark_list)))\n",
    "\n",
    "\n",
    "#I/O 2\n",
    "S = 25\n",
    "mark_list = [18, 24, 21, 32, 27]\n",
    "print(computer_app_optimized(S, optimal_exam_order_GPT(mark_list)))\n",
    "\n",
    "#I/O 3\n",
    "S = 30\n",
    "mark_list = [13, 27, 41, 59, 28, 33, 39, 19, 52, 48, 55, 79]\n",
    "print(computer_app_optimized(S, optimal_exam_order_GPT(mark_list)))\n"
   ]
  },
  {
   "cell_type": "markdown",
   "metadata": {},
   "source": [
    "*d) (continued) In addition, the chatGPT was asked to optimize optimal_exam_order_optimized() function. In the code below, it tried to avoid the sorting part resulting in linear time complexity, but, unfortunately, the results of I/O are uncorrect. Therefore, we might conclude that the optimal time complexity is already reached which is $O(N log N)$*\n",
    "\n"
   ]
  },
  {
   "cell_type": "code",
   "execution_count": null,
   "metadata": {},
   "outputs": [],
   "source": [
    "def optimal_exam_order_optimized_GPT(score, exam_mark_list):\n",
    "    # Define N as number of exams\n",
    "    N = len(exam_mark_list)\n",
    "    \n",
    "    # Calculate the sum of all marks and find the average\n",
    "    total_marks = sum(exam_mark_list)\n",
    "    average_mark = total_marks / N\n",
    "    \n",
    "    # Calculate the sum of max_marks and other_marks\n",
    "    max_marks_sum = sum(mark for mark in exam_mark_list if mark >= average_mark)\n",
    "    other_marks_sum = total_marks - max_marks_sum\n",
    "    \n",
    "    if N % 2 == 1:\n",
    "        return max_marks_sum - other_marks_sum\n",
    "    \n",
    "    return max_marks_sum - other_marks_sum + score\n"
   ]
  },
  {
   "cell_type": "code",
   "execution_count": null,
   "metadata": {},
   "outputs": [
    {
     "name": "stdout",
     "output_type": "stream",
     "text": [
      "11\n",
      "-4\n",
      "123\n"
     ]
    }
   ],
   "source": [
    "#I/O 1\n",
    "S = 8\n",
    "mark_list = [5, 7, 1]\n",
    "print(optimal_exam_order_optimized_GPT(S, mark_list))\n",
    "\n",
    "\n",
    "#I/O 2\n",
    "S = 25\n",
    "mark_list = [18, 24, 21, 32, 27]\n",
    "print(optimal_exam_order_optimized_GPT(S, mark_list))\n",
    "\n",
    "#I/O 3\n",
    "S = 30\n",
    "mark_list = [13, 27, 41, 59, 28, 33, 39, 19, 52, 48, 55, 79]\n",
    "print(optimal_exam_order_optimized_GPT(S, mark_list))"
   ]
  }
 ],
 "metadata": {
  "kernelspec": {
   "display_name": "verigram",
   "language": "python",
   "name": "python3"
  },
  "language_info": {
   "codemirror_mode": {
    "name": "ipython",
    "version": 3
   },
   "file_extension": ".py",
   "mimetype": "text/x-python",
   "name": "python",
   "nbconvert_exporter": "python",
   "pygments_lexer": "ipython3",
   "version": "3.9.17"
  }
 },
 "nbformat": 4,
 "nbformat_minor": 2
}
